{
 "cells": [
  {
   "cell_type": "code",
   "execution_count": null,
   "metadata": {},
   "outputs": [],
   "source": [
    "from deep_orderbook.replayer import Replayer\n",
    "from deep_orderbook.shapper import BookShapper\n",
    "import numpy as np\n",
    "from pylab import rcParams"
   ]
  },
  {
   "cell_type": "code",
   "execution_count": null,
   "metadata": {},
   "outputs": [],
   "source": [
    "import matplotlib.pyplot as plt\n",
    "from IPython.display import clear_output\n",
    "rcParams['figure.figsize'] = 20, 4"
   ]
  },
  {
   "cell_type": "code",
   "execution_count": null,
   "metadata": {},
   "outputs": [],
   "source": [
    "MARKETS = [\"ETHBTC\", \"BTCUSDT\", \"ETHUSDT\", \"BNBBTC\", \"BNBETH\", \"BNBUSDT\"]"
   ]
  },
  {
   "cell_type": "code",
   "execution_count": null,
   "metadata": {},
   "outputs": [],
   "source": [
    "# itertools for asyncio !\n",
    "import asyncio\n",
    "import itertools\n",
    "import aioitertools"
   ]
  },
  {
   "cell_type": "code",
   "execution_count": null,
   "metadata": {},
   "outputs": [],
   "source": [
    "shapper = await BookShapper.create()\n",
    "file_replayer = Replayer('../data/crypto', date_regexp='20')\n",
    "areplay = file_replayer.replayL2_async(pair='BTCUSDT', shapper=shapper)"
   ]
  },
  {
   "cell_type": "code",
   "execution_count": null,
   "metadata": {},
   "outputs": [],
   "source": [
    "file_gen = file_replayer.file_generator(pair='BTCUSDT')\n",
    "\n",
    "i = 0\n",
    "async for _ in file_gen:\n",
    "    i += 1\n",
    "    if i >= 10:\n",
    "        break"
   ]
  },
  {
   "cell_type": "code",
   "execution_count": null,
   "metadata": {},
   "outputs": [],
   "source": [
    "import sys\n",
    "sys.version"
   ]
  },
  {
   "cell_type": "code",
   "execution_count": null,
   "metadata": {},
   "outputs": [],
   "source": [
    "import tensorflow as tf\n",
    "print(tf.__version__)"
   ]
  },
  {
   "cell_type": "code",
   "execution_count": null,
   "metadata": {},
   "outputs": [],
   "source": [
    "g = file_replayer.training_files('BTCUSDT', side_bips=8, side_width=32)\n",
    "next(g)"
   ]
  },
  {
   "cell_type": "code",
   "execution_count": null,
   "metadata": {},
   "outputs": [],
   "source": [
    "def gen(frac_from=0.0, frac_to=1.0):\n",
    "    file_names = list(file_replayer.training_files('BTCUSDT', side_bips=8, side_width=32))\n",
    "    num = len(file_names)\n",
    "    rangefrom = int(num * frac_from)\n",
    "    rangeto = int(num * frac_to)\n",
    "    for fn_bs, fn_ps, fn_ts in file_names[rangefrom:rangeto]:\n",
    "        print(fn_bs, fn_ps, fn_ts)\n",
    "        arr_books, arr_prices, arr_time2level = np.load(fn_bs), np.load(fn_ts), np.load(fn_ps)\n",
    "        assert arr_books.shape[0] ==  arr_prices.shape[0]\n",
    "        assert arr_books.shape[0] ==  arr_time2level.shape[0]\n",
    "        yield arr_books, arr_prices, arr_time2level\n",
    "        \n",
    "g = gen(frac_to=0.75)\n",
    "next(g)\n",
    "g = gen(frac_from=0.75)\n",
    "[a.shape for a in next(g)]"
   ]
  },
  {
   "cell_type": "code",
   "execution_count": null,
   "metadata": {},
   "outputs": [],
   "source": [
    "dataset = tf.data.Dataset.from_generator( \n",
    "     gen, \n",
    "     (tf.float32, tf.float32, tf.float32), \n",
    "     (tf.TensorShape([None, 64, 3]), tf.TensorShape([None, 64, 1]), tf.TensorShape([None, 2, 3])))\n",
    " \n",
    "list(dataset.take(3).as_numpy_iterator()) "
   ]
  },
  {
   "cell_type": "code",
   "execution_count": null,
   "metadata": {},
   "outputs": [],
   "source": []
  },
  {
   "cell_type": "code",
   "execution_count": null,
   "metadata": {},
   "outputs": [],
   "source": []
  },
  {
   "cell_type": "code",
   "execution_count": null,
   "metadata": {},
   "outputs": [],
   "source": []
  },
  {
   "cell_type": "code",
   "execution_count": null,
   "metadata": {},
   "outputs": [],
   "source": []
  },
  {
   "cell_type": "code",
   "execution_count": null,
   "metadata": {},
   "outputs": [],
   "source": []
  },
  {
   "cell_type": "code",
   "execution_count": null,
   "metadata": {},
   "outputs": [],
   "source": [
    "# await next(file_gen)"
   ]
  },
  {
   "cell_type": "code",
   "execution_count": null,
   "metadata": {},
   "outputs": [],
   "source": [
    "rep = file_replayer.replayL2_async('BTCUSDT', shapper)\n",
    "\n",
    "for i in range(100):\n",
    "    await next(rep)"
   ]
  },
  {
   "cell_type": "code",
   "execution_count": null,
   "metadata": {},
   "outputs": [],
   "source": [
    "print(file_replayer.zipped_dates())"
   ]
  },
  {
   "cell_type": "code",
   "execution_count": null,
   "metadata": {},
   "outputs": [],
   "source": [
    "for i in range(100):\n",
    "    batptr = await next(areplay)\n",
    "print(f\"bids:\\n{batptr['bids'].head()}\")\n",
    "print(f\"asks:\\n{batptr['asks'].head()}\")\n",
    "print(f\"prices:\\n{batptr['price']}\")\n",
    "print(f\"trades:\\n{batptr['trades']}\")"
   ]
  },
  {
   "cell_type": "code",
   "execution_count": null,
   "metadata": {},
   "outputs": [],
   "source": [
    "replayers = [file_replayer.replayL2_async(pair, await BookShapper.create()) for pair in MARKETS]\n",
    "multi_replay = file_replayer.multireplayL2_async(replayers)\n",
    "d = await next(multi_replay)"
   ]
  },
  {
   "cell_type": "code",
   "execution_count": null,
   "metadata": {},
   "outputs": [],
   "source": [
    "async def run(maxpoints=100):\n",
    "    async for i in iter(range(maxpoints)):\n",
    "        d = await next(multi_replay)\n",
    "    #return d\n",
    "\n",
    "task = asyncio.create_task(run())"
   ]
  },
  {
   "cell_type": "code",
   "execution_count": null,
   "metadata": {},
   "outputs": [],
   "source": [
    "await task"
   ]
  },
  {
   "cell_type": "code",
   "execution_count": null,
   "metadata": {},
   "outputs": [],
   "source": [
    "genarr = shapper.gen_array_async(market_replay=multi_replay, markets=MARKETS)\n",
    "_ = await next(genarr)"
   ]
  },
  {
   "cell_type": "code",
   "execution_count": null,
   "metadata": {},
   "outputs": [],
   "source": [
    "genacc = shapper.accumulate_array(genarr, markets=MARKETS)\n",
    "_ = await next(genacc)"
   ]
  },
  {
   "cell_type": "code",
   "execution_count": null,
   "metadata": {},
   "outputs": [],
   "source": [
    "every = 10\n",
    "LENGTH = 128\n",
    "x = []\n",
    "async for n,sec in enumerate(genacc):\n",
    "    allim = []\n",
    "    for symb, data in sec.items():\n",
    "        arr = np.stack(data['bs'][-LENGTH:])\n",
    "        im = arr\n",
    "        im[:,:,0] /= 10\n",
    "        im += 0.5\n",
    "        allim.append(im)\n",
    "    allim = np.concatenate(allim, axis=1)\n",
    "    if n % every == 0:\n",
    "        plt.figure(figsize=(15,11))\n",
    "        toshow = allim.transpose(1,0,2)\n",
    "        toshow = np.clip(toshow, 0, 1)\n",
    "        plt.imshow(toshow, origin=\"lower\");\n",
    "        plt.show()\n",
    "#        pr = np.stack(data['ps'])[-LENGTH:, :-1]\n",
    "#        plt.plot(pr)\n",
    "#        plt.show()\n",
    "#        print(symb)\n",
    "        clear_output(wait=True)\n",
    "#        plt.show()\n",
    "#    if n == 100:\n",
    "#        break\n",
    "    pass"
   ]
  },
  {
   "cell_type": "code",
   "execution_count": null,
   "metadata": {},
   "outputs": [],
   "source": []
  }
 ],
 "metadata": {
  "kernelspec": {
   "display_name": "Python 3",
   "language": "python",
   "name": "python3"
  },
  "language_info": {
   "codemirror_mode": {
    "name": "ipython",
    "version": 3
   },
   "file_extension": ".py",
   "mimetype": "text/x-python",
   "name": "python",
   "nbconvert_exporter": "python",
   "pygments_lexer": "ipython3",
   "version": "3.7.7"
  }
 },
 "nbformat": 4,
 "nbformat_minor": 4
}

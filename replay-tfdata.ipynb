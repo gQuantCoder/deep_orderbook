{
 "cells": [
  {
   "cell_type": "code",
   "execution_count": null,
   "metadata": {},
   "outputs": [],
   "source": [
    "from deep_orderbook.replayer import Replayer\n",
    "from deep_orderbook.shapper import BookShapper\n",
    "from deep_orderbook.datafeed import DataFeed\n",
    "\n",
    "import numpy as np\n",
    "from pylab import rcParams"
   ]
  },
  {
   "cell_type": "code",
   "execution_count": null,
   "metadata": {},
   "outputs": [],
   "source": [
    "import matplotlib.pyplot as plt\n",
    "from IPython.display import clear_output\n",
    "rcParams['figure.figsize'] = 20, 4"
   ]
  },
  {
   "cell_type": "code",
   "execution_count": null,
   "metadata": {},
   "outputs": [],
   "source": [
    "MARKETS = [\"ETHBTC\", \"BTCUSDT\", \"ETHUSDT\", \"BNBBTC\", \"BNBETH\", \"BNBUSDT\"]\n",
    "PAIR = MARKETS[1]\n",
    "PAIR"
   ]
  },
  {
   "cell_type": "code",
   "execution_count": null,
   "metadata": {},
   "outputs": [],
   "source": [
    "# itertools for asyncio !\n",
    "import asyncio\n",
    "import itertools\n",
    "import aioitertools"
   ]
  },
  {
   "cell_type": "code",
   "execution_count": null,
   "metadata": {},
   "outputs": [],
   "source": [
    "shapper = await BookShapper.create()\n",
    "file_replayer = Replayer('../data/crypto', date_regexp='20')\n",
    "areplay = file_replayer.replayL2_async(pair=PAIR, shapper=shapper)"
   ]
  },
  {
   "cell_type": "code",
   "execution_count": null,
   "metadata": {},
   "outputs": [],
   "source": [
    "file_gen = file_replayer.file_generator(pair=PAIR)\n",
    "\n",
    "i = 0\n",
    "async for _ in file_gen:\n",
    "    i += 1\n",
    "    if i >= 10:\n",
    "        break"
   ]
  },
  {
   "cell_type": "code",
   "execution_count": null,
   "metadata": {},
   "outputs": [],
   "source": [
    "import sys\n",
    "sys.version"
   ]
  },
  {
   "cell_type": "code",
   "execution_count": null,
   "metadata": {},
   "outputs": [],
   "source": [
    "import tensorflow as tf\n",
    "print(tf.__version__)"
   ]
  },
  {
   "cell_type": "code",
   "execution_count": null,
   "metadata": {},
   "outputs": [],
   "source": [
    "g = file_replayer.training_files(PAIR, side_bips=8, side_width=32)\n",
    "next(g)"
   ]
  },
  {
   "cell_type": "code",
   "execution_count": null,
   "metadata": {},
   "outputs": [],
   "source": [
    "def gen(frac_from=0.0, frac_to=1.0):\n",
    "    file_names = list(file_replayer.training_files(PAIR, side_bips=8, side_width=32))\n",
    "    num = len(file_names)\n",
    "    rangefrom = int(num * frac_from)\n",
    "    rangeto = int(num * frac_to)\n",
    "    for fn_bs, fn_ps, fn_ts in file_names[rangefrom:rangeto]:\n",
    "        print(fn_bs, fn_ps, fn_ts)\n",
    "        arr_books, arr_prices, arr_time2level = np.load(fn_bs), np.load(fn_ts), np.load(fn_ps)\n",
    "        assert arr_books.shape[0] ==  arr_prices.shape[0]\n",
    "        assert arr_books.shape[0] ==  arr_time2level.shape[0]\n",
    "        yield arr_books, arr_prices, arr_time2level\n",
    "        \n",
    "g = gen(frac_to=0.75)\n",
    "next(g)\n",
    "g = gen(frac_from=0.75)\n",
    "[a.shape for a in next(g)]"
   ]
  },
  {
   "cell_type": "code",
   "execution_count": null,
   "metadata": {},
   "outputs": [],
   "source": []
  },
  {
   "cell_type": "code",
   "execution_count": null,
   "metadata": {},
   "outputs": [],
   "source": [
    "import functools\n",
    "data = DataFeed('../data/crypto', symbol=PAIR, side_bips=8, side_width=32, date_regexp='*')\n",
    "\n",
    "def alpha(arr_time2level):\n",
    "    return 10 / (1 + (arr_time2level))\n",
    "def flow(self, split, batch_size, sample_length, seed):\n",
    "        assert len(split) == 1\n",
    "        def train_gen():\n",
    "            for fn_bs, fn_ps, fn_ts in self.raw_numpy_gen(frac_to=split[0], seed=seed):\n",
    "                yield data.batch_length(fn_bs, sample_length), data.batch_length(fn_ps, sample_length), data.batch_length(alpha(fn_ts), sample_length)\n",
    "        def valid_gen():\n",
    "            for fn_bs, fn_ps, fn_ts in self.raw_numpy_gen(frac_from=split[0], seed=seed):\n",
    "                yield data.batch_length(fn_bs, sample_length), data.batch_length(fn_ps, sample_length), data.batch_length(alpha(fn_ts), sample_length)\n",
    "\n",
    "        def make_dataset(raw_gen, name='dataset'):\n",
    "            ds = tf.data.Dataset.from_generator(\n",
    "                            raw_gen, \n",
    "                            (tf.float32, tf.float32, tf.float32),\n",
    "                            (tf.TensorShape([None, sample_length, self.widthbooks, self.chanbooks]),\n",
    "                            tf.TensorShape([None, sample_length, self.widthbooks, 1]),\n",
    "                            tf.TensorShape([None, sample_length, 2, 3]))\n",
    "                            )\n",
    "#            print(name, ds)\n",
    "#            ds = ds.window(size=sample_length, drop_remainder=True)\n",
    "            ds = ds.unbatch()\n",
    "#            print(name, ds)\n",
    "            if seed:\n",
    "                shuffle_size = 17\n",
    "                print('shuffle_size', shuffle_size)\n",
    "                ds = ds.shuffle(shuffle_size, seed=seed)\n",
    "            ds = ds.batch(batch_size)\n",
    "#            print(name, ds)\n",
    "            return ds\n",
    "        return make_dataset(train_gen), make_dataset(valid_gen)\n",
    "\n",
    "tds, vds = flow(data, split=[0.85], batch_size=1, sample_length=8192, seed=0)\n",
    "tds, vds = data.data_flow(split=[0.97], batch_size=1, sample_length=8192, seed=0)\n",
    "tds"
   ]
  },
  {
   "cell_type": "code",
   "execution_count": null,
   "metadata": {},
   "outputs": [],
   "source": [
    "tnp = tds.as_numpy_iterator()\n",
    "vnp = vds.as_numpy_iterator()\n",
    "a,b,c = next(tnp)\n",
    "print(a.shape)\n",
    "print(b.shape)\n",
    "print(c.shape)\n",
    "a,b,c = next(vnp)\n",
    "print(a.shape)\n",
    "print(b.shape)\n",
    "print(c.shape)"
   ]
  },
  {
   "cell_type": "code",
   "execution_count": null,
   "metadata": {},
   "outputs": [],
   "source": [
    "for a,b,c in tnp:\n",
    "    pass"
   ]
  },
  {
   "cell_type": "code",
   "execution_count": null,
   "metadata": {},
   "outputs": [],
   "source": [
    "a,b,c = next(tnp)\n",
    "print(a.shape)\n",
    "print(b.shape)\n",
    "print(c.shape)\n",
    "a,b,c = next(vnp)\n",
    "print(a.shape)\n",
    "print(b.shape)\n",
    "print(c.shape)"
   ]
  },
  {
   "cell_type": "code",
   "execution_count": null,
   "metadata": {},
   "outputs": [],
   "source": [
    "import datetime\n",
    "import matplotlib.dates as mdates\n",
    "def batch_to_plot(b_prices, b_books, b_labels, b_outputs, nth=0, max_points=512):\n",
    "    # find most violent move\n",
    "    # print('b_labels.shape', b_labels.shape)\n",
    "    points = b_outputs.shape[1]\n",
    "    b_t_mean = np.mean(b_outputs, axis=(2, 3))\n",
    "    # one could find the best batch\n",
    "    nth = nth\n",
    "    max_at = np.argmax(b_t_mean[nth])\n",
    "    center = min(max_at, points - max_points // 2 - max_points % 2)\n",
    "    center = max(center, max_points // 2)\n",
    "    left = max(0, center - max_points // 2)\n",
    "    right = min(points, center + max_points // 2 + max_points % 2)\n",
    "    # print(f\"index {nth} in batch. max_at {max_at}, left={left}, right={right}\")\n",
    "\n",
    "    return image_grid(\n",
    "        b_prices[nth, left:right], \n",
    "        b_books[nth, left:right], \n",
    "        b_labels[nth, left:right], \n",
    "        b_outputs[nth, left:right])\n",
    "\n",
    "def image_grid(prices_dts, books, labels, outputs):\n",
    "    figure = plt.figure(figsize=(13, 12))\n",
    "    numsubplot = 6\n",
    "    prices = prices_dts[:, 0, :]\n",
    "    low_trade = prices_dts[:, 0, 0]\n",
    "    high_trade = prices_dts[:, 1, 2]\n",
    "    lowhigh_trade = np.stack([low_trade, high_trade], axis=-1)\n",
    "\n",
    "    dts = prices_dts[:, 1, :]\n",
    "    ts = [int(dt[0]) * 3600 * 24 + int(dt[1]) for dt in dts]\n",
    "    x = [datetime.datetime.utcfromtimestamp(t) for t in ts]\n",
    "\n",
    "    ax = plt.subplot(numsubplot, 1, 1)\n",
    "    plt.margins(0.0)\n",
    "    # plt.plot(x, prices[:, 0], 'y')\n",
    "    ax.plot(x, prices[:, 1], 'b')\n",
    "    ax.plot(x, prices[:, 2], 'r')\n",
    "    ax.grid(b=True, which='both', axis='both')\n",
    "    ax.xaxis.set_major_formatter(mdates.DateFormatter('%m-%d@%H:%M:%S'))\n",
    "    plt.xticks(rotation=5)\n",
    "\n",
    "    plt.subplot(numsubplot, 1, 2)\n",
    "    im = np.abs(books[:, :, 0])\n",
    "    im[im == 0] = -1\n",
    "    toshow = np.clip(im.T, 0, 255)\n",
    "    plt.imshow(toshow, cmap='nipy_spectral', origin=\"lower\")\n",
    "    plt.grid(b=True, which='both', axis='both')\n",
    "    \n",
    "    plt.subplot(numsubplot, 1, 3)\n",
    "    im0 = books[:, :, 0].T/10\n",
    "    im1 = books[:, :, 1].T/1\n",
    "    im2 = books[:, :, 2].T/1\n",
    "    im3 = np.stack([im0, im1, im2], -1)+0.5\n",
    "    toshow = np.clip(im3[:,:,:], 0, 1)\n",
    "    plt.imshow(toshow, origin=\"lower\")\n",
    "    plt.grid(b=True, which='both', axis='both')\n",
    "    \n",
    "    plt.subplot(numsubplot, 1, 4)\n",
    "    im = labels[:, :, 0]\n",
    "    toshow = np.clip(im.T, -1000, 1000)\n",
    "    plt.imshow(toshow, cmap='nipy_spectral', origin=\"lower\")\n",
    "    plt.grid(b=True, which='both', axis='both')\n",
    "    \n",
    "    plt.subplot(numsubplot, 1, 5)\n",
    "    im = outputs[:, :, 0]\n",
    "    toshow = np.clip(im.T, -1000, 1000)\n",
    "    plt.imshow(toshow, cmap='nipy_spectral', origin=\"lower\")\n",
    "    plt.grid(b=True, which='both', axis='both')\n",
    "\n",
    "    ax0 = plt.subplot(numsubplot, 1, 6)\n",
    "    ax1 = ax0.twinx()\n",
    "    pos, pnl = simul_pnl(prices, outputs, lowhigh_trade)\n",
    "    _, pnl_optimist = simul_pnl(prices, outputs, lowhigh_trade, optimist=True)\n",
    "    pos_best, pnl_best = simul_pnl(prices, labels, lowhigh_trade)\n",
    "    plt.margins(0.0)\n",
    "    ax0.plot(pnl, 'r')\n",
    "    ax0.plot(pnl_optimist, 'r')\n",
    "    ax1.plot(pos, 'b')\n",
    "    ax1.plot(pos_best, 'y')\n",
    "    plt.grid(b=True, which='both', axis='both')\n",
    "    return figure\n",
    "def simul_pnl(prices, outputs, lowhigh_trade, optimist=False):\n",
    "    mid = outputs.shape[1] // 2\n",
    "    buys = outputs[:, mid:, 0]\n",
    "    sells = outputs[:, :mid, 0]\n",
    "    bids_next = tf.pad(prices[1:, 1], [[0,1]], mode='REFLECT')\n",
    "    asks_next = tf.pad(prices[1:, 2], [[0,1]], mode='REFLECT')\n",
    "    low_next = tf.pad(lowhigh_trade[1:, 0], [[0,1]], mode='REFLECT')\n",
    "    high_next = tf.pad(lowhigh_trade[1:, 1], [[0,1]], mode='REFLECT')\n",
    "    price_next = 0.5 * (bids_next + asks_next)\n",
    "#    tr_pr_nt = 0.5 * (low_next + high_next)\n",
    "#    tr_pr_nt[np.isnan(tr_pr_nt)] = price_next[np.isnan(tr_pr_nt)]\n",
    "#    price_next = 0.5 * (price_next + tr_pr_nt)\n",
    "\n",
    "    b = tf.reduce_mean(buys, axis=1)\n",
    "    s = tf.reduce_mean(sells, axis=1)\n",
    "\n",
    "    targ_pos = b - s\n",
    "    diff_pos = targ_pos - tf.pad(targ_pos, [[1,0]])[:-1]\n",
    "    curr_pos = targ_pos\n",
    "\n",
    "    if optimist:\n",
    "        cashflow = -diff_pos * price_next\n",
    "    else:\n",
    "        cashflow = -diff_pos * tf.where(diff_pos > 0, asks_next, bids_next)\n",
    "    cash = tf.cumsum(cashflow, axis=0)\n",
    "    stock = curr_pos * price_next\n",
    "\n",
    "    # print(curr_pos)\n",
    "    return curr_pos, cash + stock\n",
    "_ = batch_to_plot(c,a,b,b)"
   ]
  },
  {
   "cell_type": "code",
   "execution_count": null,
   "metadata": {},
   "outputs": [],
   "source": [
    "c.shape"
   ]
  },
  {
   "cell_type": "code",
   "execution_count": null,
   "metadata": {},
   "outputs": [],
   "source": [
    "10 / b.max() - 1"
   ]
  },
  {
   "cell_type": "code",
   "execution_count": null,
   "metadata": {},
   "outputs": [],
   "source": [
    "b2l = shapper.build_time_level_trade(a[0],c[0], sidebips=8, sidesteps=32)"
   ]
  },
  {
   "cell_type": "code",
   "execution_count": null,
   "metadata": {},
   "outputs": [],
   "source": [
    "b2l.min(), b2l.max()"
   ]
  },
  {
   "cell_type": "code",
   "execution_count": null,
   "metadata": {},
   "outputs": [],
   "source": [
    "c"
   ]
  },
  {
   "cell_type": "code",
   "execution_count": null,
   "metadata": {},
   "outputs": [],
   "source": [
    "ds = tf.data.Dataset.from_generator( \n",
    "     gen, \n",
    "     (tf.float32, tf.float32, tf.float32), \n",
    "     (tf.TensorShape([None, 64, 3]), tf.TensorShape([None, 64, 1]), tf.TensorShape([None, 2, 3])))\n",
    "ds"
   ]
  },
  {
   "cell_type": "code",
   "execution_count": null,
   "metadata": {},
   "outputs": [],
   "source": [
    "list(ds.take(3).as_numpy_iterator()) "
   ]
  },
  {
   "cell_type": "code",
   "execution_count": null,
   "metadata": {},
   "outputs": [],
   "source": []
  },
  {
   "cell_type": "code",
   "execution_count": null,
   "metadata": {},
   "outputs": [],
   "source": []
  },
  {
   "cell_type": "code",
   "execution_count": null,
   "metadata": {},
   "outputs": [],
   "source": []
  },
  {
   "cell_type": "code",
   "execution_count": null,
   "metadata": {},
   "outputs": [],
   "source": []
  },
  {
   "cell_type": "code",
   "execution_count": null,
   "metadata": {},
   "outputs": [],
   "source": []
  },
  {
   "cell_type": "code",
   "execution_count": null,
   "metadata": {},
   "outputs": [],
   "source": [
    "# await next(file_gen)"
   ]
  },
  {
   "cell_type": "code",
   "execution_count": null,
   "metadata": {},
   "outputs": [],
   "source": [
    "rep = file_replayer.replayL2_async('BTCUSDT', shapper)\n",
    "\n",
    "for i in range(100):\n",
    "    await next(rep)"
   ]
  },
  {
   "cell_type": "code",
   "execution_count": null,
   "metadata": {},
   "outputs": [],
   "source": [
    "print(file_replayer.zipped_dates())"
   ]
  },
  {
   "cell_type": "code",
   "execution_count": null,
   "metadata": {},
   "outputs": [],
   "source": [
    "for i in range(100):\n",
    "    batptr = await next(areplay)\n",
    "print(f\"bids:\\n{batptr['bids'].head()}\")\n",
    "print(f\"asks:\\n{batptr['asks'].head()}\")\n",
    "print(f\"prices:\\n{batptr['price']}\")\n",
    "print(f\"trades:\\n{batptr['trades']}\")"
   ]
  },
  {
   "cell_type": "code",
   "execution_count": null,
   "metadata": {},
   "outputs": [],
   "source": [
    "replayers = [file_replayer.replayL2_async(pair, await BookShapper.create()) for pair in MARKETS]\n",
    "multi_replay = file_replayer.multireplayL2_async(replayers)\n",
    "d = await next(multi_replay)"
   ]
  },
  {
   "cell_type": "code",
   "execution_count": null,
   "metadata": {},
   "outputs": [],
   "source": [
    "async def run(maxpoints=100):\n",
    "    async for i in iter(range(maxpoints)):\n",
    "        d = await next(multi_replay)\n",
    "    #return d\n",
    "\n",
    "task = asyncio.create_task(run())"
   ]
  },
  {
   "cell_type": "code",
   "execution_count": null,
   "metadata": {},
   "outputs": [],
   "source": [
    "await task"
   ]
  },
  {
   "cell_type": "code",
   "execution_count": null,
   "metadata": {},
   "outputs": [],
   "source": [
    "genarr = shapper.gen_array_async(market_replay=multi_replay, markets=MARKETS)\n",
    "_ = await next(genarr)"
   ]
  },
  {
   "cell_type": "code",
   "execution_count": null,
   "metadata": {},
   "outputs": [],
   "source": [
    "genacc = shapper.accumulate_array(genarr, markets=MARKETS)\n",
    "_ = await next(genacc)"
   ]
  },
  {
   "cell_type": "code",
   "execution_count": null,
   "metadata": {},
   "outputs": [],
   "source": [
    "every = 10\n",
    "LENGTH = 128\n",
    "x = []\n",
    "async for n,sec in enumerate(genacc):\n",
    "    allim = []\n",
    "    for symb, data in sec.items():\n",
    "        arr = np.stack(data['bs'][-LENGTH:])\n",
    "        im = arr\n",
    "        im[:,:,0] /= 10\n",
    "        im += 0.5\n",
    "        allim.append(im)\n",
    "    allim = np.concatenate(allim, axis=1)\n",
    "    if n % every == 0:\n",
    "        plt.figure(figsize=(15,11))\n",
    "        toshow = allim.transpose(1,0,2)\n",
    "        toshow = np.clip(toshow, 0, 1)\n",
    "        plt.imshow(toshow, origin=\"lower\");\n",
    "        plt.show()\n",
    "#        pr = np.stack(data['ps'])[-LENGTH:, :-1]\n",
    "#        plt.plot(pr)\n",
    "#        plt.show()\n",
    "#        print(symb)\n",
    "        clear_output(wait=True)\n",
    "#        plt.show()\n",
    "#    if n == 100:\n",
    "#        break\n",
    "    pass"
   ]
  },
  {
   "cell_type": "code",
   "execution_count": null,
   "metadata": {},
   "outputs": [],
   "source": []
  }
 ],
 "metadata": {
  "kernelspec": {
   "display_name": "Python 3",
   "language": "python",
   "name": "python3"
  },
  "language_info": {
   "codemirror_mode": {
    "name": "ipython",
    "version": 3
   },
   "file_extension": ".py",
   "mimetype": "text/x-python",
   "name": "python",
   "nbconvert_exporter": "python",
   "pygments_lexer": "ipython3",
   "version": "3.7.7"
  }
 },
 "nbformat": 4,
 "nbformat_minor": 4
}

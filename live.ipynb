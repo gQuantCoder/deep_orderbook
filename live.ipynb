{
 "cells": [
  {
   "cell_type": "code",
   "execution_count": null,
   "metadata": {},
   "outputs": [],
   "source": [
    "from deep_orderbook.config import FeedConfig, ShaperConfig\n",
    "from deep_orderbook.shaper import iter_shapes_t2l\n",
    "from deep_orderbook.visu import Visualizer"
   ]
  },
  {
   "cell_type": "code",
   "execution_count": null,
   "metadata": {},
   "outputs": [],
   "source": [
    "feed_conf = FeedConfig(\n",
    "    markets=[\"ETH-USD\"],#, \"BTC-USD\", \"ETH-BTC\"],\n",
    "    freq=4.0,\n",
    ")\n",
    "shaper_config = ShaperConfig(\n",
    "    only_full_arrays=False,\n",
    "    zoom_frac = 0.002,\n",
    "    look_ahead_side_bips = 10,\n",
    ")"
   ]
  },
  {
   "cell_type": "code",
   "execution_count": null,
   "metadata": {},
   "outputs": [],
   "source": [
    "vis = Visualizer()\n",
    "async def rolling_plot(config: FeedConfig):\n",
    "    async for books_array, t2l_array, pxar in iter_shapes_t2l(\n",
    "        replay_config=config,\n",
    "        shaper_config=shaper_config,\n",
    "        live=True,\n",
    "    ):\n",
    "        vis.update(books_z_data=books_array, level_reach_z_data=t2l_array, bidask=pxar)\n",
    "\n",
    "await rolling_plot(config=feed_conf)"
   ]
  },
  {
   "cell_type": "code",
   "execution_count": null,
   "metadata": {},
   "outputs": [],
   "source": []
  }
 ],
 "metadata": {
  "kernelspec": {
   "display_name": "Python 3 (ipykernel)",
   "language": "python",
   "name": "python3"
  },
  "language_info": {
   "codemirror_mode": {
    "name": "ipython",
    "version": 3
   },
   "file_extension": ".py",
   "mimetype": "text/x-python",
   "name": "python",
   "nbconvert_exporter": "python",
   "pygments_lexer": "ipython3",
   "version": "3.11.10"
  }
 },
 "nbformat": 4,
 "nbformat_minor": 4
}

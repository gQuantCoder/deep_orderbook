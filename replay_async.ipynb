{
 "cells": [
  {
   "cell_type": "code",
   "execution_count": null,
   "metadata": {},
   "outputs": [],
   "source": [
    "from deep_orderbook.replayer import Replayer\n",
    "from deep_orderbook.shapper import BookShapper\n",
    "import numpy as np\n",
    "from pylab import rcParams"
   ]
  },
  {
   "cell_type": "code",
   "execution_count": null,
   "metadata": {},
   "outputs": [],
   "source": [
    "import matplotlib.pyplot as plt\n",
    "from IPython.display import clear_output\n",
    "rcParams['figure.figsize'] = 20, 4"
   ]
  },
  {
   "cell_type": "code",
   "execution_count": null,
   "metadata": {},
   "outputs": [],
   "source": [
    "MARKETS = [\"ETHBTC\", \"BTCUSDT\", \"ETHUSDT\", \"BNBBTC\", \"BNBETH\", \"BNBUSDT\"]"
   ]
  },
  {
   "cell_type": "code",
   "execution_count": null,
   "metadata": {},
   "outputs": [],
   "source": [
    "# itertools for asyncio !\n",
    "import asyncio\n",
    "from aioitertools import iter, next, map, zip\n",
    "from aioitertools import enumerate"
   ]
  },
  {
   "cell_type": "code",
   "execution_count": null,
   "metadata": {},
   "outputs": [],
   "source": [
    "shapper = await BookShapper.create()\n",
    "file_replayer = Replayer('../crypto-trading/data/L2', date_regexp='2020')\n",
    "areplay = file_replayer.replayL2_async('ETHBTC', shapper)\n",
    "b, a, tp, tr = await next(areplay)"
   ]
  },
  {
   "cell_type": "code",
   "execution_count": null,
   "metadata": {},
   "outputs": [],
   "source": [
    "for i in range(100):\n",
    "    b, a, tp, tr = await next(areplay)\n",
    "print(f\"bids:\\n{b.head()}\")\n",
    "print(f\"asks:\\n{a.head()}\")\n",
    "print(f\"prices:\\n{tp}\")\n",
    "print(f\"trades:\\n{tr}\")"
   ]
  },
  {
   "cell_type": "code",
   "execution_count": null,
   "metadata": {},
   "outputs": [],
   "source": [
    "replayers = [file_replayer.replayL2_async(pair, await BookShapper.create()) for pair in MARKETS]\n",
    "multi_replay = file_replayer.multireplayL2_async(replayers)\n",
    "d = await next(multi_replay)"
   ]
  },
  {
   "cell_type": "code",
   "execution_count": null,
   "metadata": {},
   "outputs": [],
   "source": [
    "async def run(maxpoints=100):\n",
    "    async for i in iter(range(maxpoints)):\n",
    "        d = await next(multi_replay)\n",
    "    #return d\n",
    "\n",
    "task = asyncio.create_task(run())"
   ]
  },
  {
   "cell_type": "code",
   "execution_count": null,
   "metadata": {},
   "outputs": [],
   "source": [
    "await task"
   ]
  },
  {
   "cell_type": "code",
   "execution_count": null,
   "metadata": {},
   "outputs": [],
   "source": [
    "genarr = shapper.gen_array_async(market_replay=multi_replay, markets=MARKETS)\n",
    "_ = await next(genarr)"
   ]
  },
  {
   "cell_type": "code",
   "execution_count": null,
   "metadata": {},
   "outputs": [],
   "source": [
    "genacc = shapper.accumulate_array(genarr, markets=MARKETS)\n",
    "_ = await next(genacc)"
   ]
  },
  {
   "cell_type": "code",
   "execution_count": null,
   "metadata": {},
   "outputs": [],
   "source": [
    "every = 10\n",
    "LENGTH = 128\n",
    "x = []\n",
    "async for n,sec in enumerate(genacc):\n",
    "    allim = []\n",
    "    for symb, data in sec.items():\n",
    "        arr = np.stack(data['bs'][-LENGTH:])\n",
    "        im = arr\n",
    "        im[:,:,0] /= 10\n",
    "        im += 0.5\n",
    "        allim.append(im)\n",
    "    allim = np.concatenate(allim, axis=1)\n",
    "    if n % every == 0:\n",
    "        plt.figure(figsize=(15,11))\n",
    "        toshow = allim.transpose(1,0,2)\n",
    "        toshow = np.clip(toshow, 0, 1)\n",
    "        plt.imshow(toshow, origin=\"lower\");\n",
    "        clear_output(wait=True)\n",
    "        plt.show()\n",
    "    pass"
   ]
  },
  {
   "cell_type": "code",
   "execution_count": null,
   "metadata": {},
   "outputs": [],
   "source": []
  },
  {
   "cell_type": "code",
   "execution_count": null,
   "metadata": {},
   "outputs": [],
   "source": []
  },
  {
   "cell_type": "code",
   "execution_count": null,
   "metadata": {},
   "outputs": [],
   "source": [
    "genacc = file_replayer.accumulate_array(markets=['ETHBTC'])\n",
    "next(genacc)"
   ]
  },
  {
   "cell_type": "code",
   "execution_count": null,
   "metadata": {},
   "outputs": [],
   "source": [
    "import pandas as pd\n",
    "import numpy as np"
   ]
  },
  {
   "cell_type": "code",
   "execution_count": null,
   "metadata": {},
   "outputs": [],
   "source": [
    "js = [['0.21654', '0.24654'],['0.21654', '0.24654'],['0.21654', '0.24654'],['0.21654', '0.24654'],['0.21654', '0.24654'],['0.21654', '0.24654']]"
   ]
  },
  {
   "cell_type": "code",
   "execution_count": null,
   "metadata": {},
   "outputs": [],
   "source": [
    "%%timeit\n",
    "pd.DataFrame(js, columns=['price', 'size']).astype(np.float64).set_index('price')"
   ]
  },
  {
   "cell_type": "code",
   "execution_count": null,
   "metadata": {},
   "outputs": [],
   "source": [
    "%%timeit\n",
    "[[float(e[0]), float(e[1])] for e in js]"
   ]
  },
  {
   "cell_type": "code",
   "execution_count": null,
   "metadata": {},
   "outputs": [],
   "source": []
  }
 ],
 "metadata": {
  "kernelspec": {
   "display_name": "Python 3",
   "language": "python",
   "name": "python3"
  },
  "language_info": {
   "codemirror_mode": {
    "name": "ipython",
    "version": 3
   },
   "file_extension": ".py",
   "mimetype": "text/x-python",
   "name": "python",
   "nbconvert_exporter": "python",
   "pygments_lexer": "ipython3",
   "version": "3.7.6"
  }
 },
 "nbformat": 4,
 "nbformat_minor": 4
}

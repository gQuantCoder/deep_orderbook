{
 "cells": [
  {
   "cell_type": "code",
   "execution_count": 1,
   "metadata": {},
   "outputs": [],
   "source": [
    "from deep_orderbook.config import ReplayConfig, ShaperConfig\n",
    "from deep_orderbook.shaper import iter_shapes_t2l\n",
    "from deep_orderbook.visu import Visualizer"
   ]
  },
  {
   "cell_type": "code",
   "execution_count": 2,
   "metadata": {},
   "outputs": [],
   "source": [
    "replay_conf_3 = ReplayConfig(\n",
    "    markets=[\"ETH-USD\"],#, \"BTC-USD\", \"ETH-BTC\"],\n",
    "    data_dir='data',\n",
    "    date_regexp='2024-1*T16',\n",
    "    max_samples=-1,\n",
    "    every=\"100ms\",\n",
    ")\n",
    "shaper_config = ShaperConfig(\n",
    "    only_full_arrays=False,\n",
    "    zoom_frac = 0.0005,\n",
    "    look_ahead_side_bips = 2,\n",
    ")"
   ]
  },
  {
   "cell_type": "code",
   "execution_count": null,
   "metadata": {},
   "outputs": [],
   "source": [
    "vis = Visualizer()\n",
    "async def rolling_plot(config: ReplayConfig):\n",
    "    async for books_array, t2l_array, pxar in iter_shapes_t2l(\n",
    "        replay_config=config.but(every=\"200ms\"),\n",
    "        shaper_config=shaper_config.but(zoom_frac=0.0004, look_ahead_side_bips=1)\n",
    "    ):\n",
    "        vis.update(books_z_data=books_array, level_reach_z_data=t2l_array, bidask=pxar)\n",
    "\n",
    "await rolling_plot(config=replay_conf_3.but(\n",
    "        max_samples=100, \n",
    "        # skip_until_time=\"23:15\",\n",
    "    )\n",
    ")"
   ]
  },
  {
   "cell_type": "code",
   "execution_count": null,
   "metadata": {},
   "outputs": [],
   "source": []
  }
 ],
 "metadata": {
  "kernelspec": {
   "display_name": "py311",
   "language": "python",
   "name": "python3"
  },
  "language_info": {
   "codemirror_mode": {
    "name": "ipython",
    "version": 3
   },
   "file_extension": ".py",
   "mimetype": "text/x-python",
   "name": "python",
   "nbconvert_exporter": "python",
   "pygments_lexer": "ipython3",
   "version": "3.11.10"
  }
 },
 "nbformat": 4,
 "nbformat_minor": 4
}

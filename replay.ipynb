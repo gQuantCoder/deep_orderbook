{
 "cells": [
  {
   "cell_type": "code",
   "execution_count": 1,
   "metadata": {},
   "outputs": [],
   "source": [
    "from deep_orderbook.replayer import Replayer\n",
    "from deep_orderbook.shaper import BookShaper\n",
    "import numpy as np\n",
    "from pylab import rcParams"
   ]
  },
  {
   "cell_type": "code",
   "execution_count": 2,
   "metadata": {},
   "outputs": [],
   "source": [
    "import matplotlib.pyplot as plt\n",
    "from IPython.display import clear_output\n",
    "rcParams['figure.figsize'] = 20, 4"
   ]
  },
  {
   "cell_type": "code",
   "execution_count": 3,
   "metadata": {},
   "outputs": [],
   "source": [
    "MARKETS = [\"ETH-BTC\", \"BTC-USD\", \"ETH-USD\"]"
   ]
  },
  {
   "cell_type": "code",
   "execution_count": 4,
   "metadata": {},
   "outputs": [],
   "source": [
    "# itertools for asyncio !\n",
    "import asyncio\n",
    "from aioitertools import iter, next, map, zip\n",
    "from aioitertools import enumerate"
   ]
  },
  {
   "cell_type": "code",
   "execution_count": 8,
   "metadata": {},
   "outputs": [
    {
     "data": {
      "application/vnd.jupyter.widget-view+json": {
       "model_id": "eeeca6c6b29b48778c35fbc3dccdab85",
       "version_major": 2,
       "version_minor": 0
      },
      "text/plain": [
       "  0%|          | 0/2 [00:00<?, ?it/s]"
      ]
     },
     "metadata": {},
     "output_type": "display_data"
    },
    {
     "data": {
      "application/vnd.jupyter.widget-view+json": {
       "model_id": "684846a53e4f4b4aacef735e618e457f",
       "version_major": 2,
       "version_minor": 0
      },
      "text/plain": [
       "0it [00:00, ?it/s]"
      ]
     },
     "metadata": {},
     "output_type": "display_data"
    },
    {
     "name": "stdout",
     "output_type": "stream",
     "text": [
      "One second: 2024-08-06 08:25:44+00:00 \n",
      "ETH-BTC: BBO: price=0.04485 size=0.42857832-price=0.04486 size=7.84479889, num trades: 0\n",
      "BTC-USD: BBO: price=55670.64 size=0.015-price=55673.3 size=0.05, num trades: 0\n",
      "ETH-USD: BBO: price=2496.57 size=8.01044562-price=2496.98 size=1.52612798, num trades: 2\n",
      "\n",
      "One second: 2024-08-06 08:25:45+00:00 \n",
      "ETH-BTC: BBO: price=0.04485 size=0.008-price=0.04486 size=7.84479889, num trades: 0\n",
      "BTC-USD: BBO: price=55670.8 size=0.015-price=55673.16 size=0.00034315, num trades: 0\n",
      "ETH-USD: BBO: price=2496.69 size=0.7875-price=2496.83 size=0.0134929, num trades: 2\n",
      "\n",
      "One second: 2024-08-06 08:25:46+00:00 \n",
      "ETH-BTC: BBO: price=0.04485 size=1.25868949-price=0.04486 size=6.44266125, num trades: 0\n",
      "BTC-USD: BBO: price=55676.92 size=0.0731-price=55678.71 size=0.10779736, num trades: 6\n",
      "ETH-USD: BBO: price=2497.16 size=2.80317839-price=2497.2 size=0.36278888, num trades: 1\n",
      "\n"
     ]
    }
   ],
   "source": [
    "from deep_orderbook.feeds.coinbase_feed import CoinbaseFeed\n",
    "from deep_orderbook.replayer import ParquetReplayer\n",
    "\n",
    "async def iter_sec(date_regexp='2024-08-06', max_samples=0):\n",
    "    replayer = ParquetReplayer('data', date_regexp=date_regexp)\n",
    "    async with CoinbaseFeed(\n",
    "        markets=MARKETS,\n",
    "        replayer=replayer,\n",
    "    ) as feed:\n",
    "        async for onesec in feed.one_second_iterator():\n",
    "            yield onesec\n",
    "            if max_samples == 0:\n",
    "                break\n",
    "            else:\n",
    "                max_samples -= 1\n",
    "\n",
    "async for onesec in iter_sec(max_samples=2):\n",
    "    print(onesec)"
   ]
  },
  {
   "cell_type": "code",
   "execution_count": 10,
   "metadata": {},
   "outputs": [
    {
     "data": {
      "application/vnd.jupyter.widget-view+json": {
       "model_id": "b309aa6862f349598c7f9019366d4905",
       "version_major": 2,
       "version_minor": 0
      },
      "text/plain": [
       "  0%|          | 0/2 [00:00<?, ?it/s]"
      ]
     },
     "metadata": {},
     "output_type": "display_data"
    },
    {
     "data": {
      "application/vnd.jupyter.widget-view+json": {
       "model_id": "02d8f1f61f98429b99423b3c62b2de61",
       "version_major": 2,
       "version_minor": 0
      },
      "text/plain": [
       "0it [00:00, ?it/s]"
      ]
     },
     "metadata": {},
     "output_type": "display_data"
    },
    {
     "name": "stdout",
     "output_type": "stream",
     "text": [
      "{'ETH-BTC': {'time': datetime.datetime(2024, 8, 6, 8, 25, 44, tzinfo=TzInfo(UTC)), 'price': 0.044850520001, 'bids':                                    size\n",
      "price                                  \n",
      "(price, 0.04485)     (size, 0.42857832)\n",
      "(price, 0.04484)    (size, 13.87024489)\n",
      "(price, 0.04483)    (size, 28.55443584)\n",
      "(price, 0.04482)     (size, 24.0507326)\n",
      "(price, 0.04481)    (size, 10.56853926)\n",
      "...                                 ...\n",
      "(price, 5e-05)            (size, 1.988)\n",
      "(price, 4e-05)            (size, 2.485)\n",
      "(price, 3e-05)    (size, 2503.31377333)\n",
      "(price, 2e-05)             (size, 4.97)\n",
      "(price, 1e-05)        (size, 153.97466)\n",
      "\n",
      "[816 rows x 1 columns], 'asks':                                  size\n",
      "price                                \n",
      "(price, 0.04486)   (size, 7.84479889)\n",
      "(price, 0.04487)  (size, 19.49929362)\n",
      "(price, 0.04488)  (size, 28.24915108)\n",
      "(price, 0.04489)  (size, 13.78963234)\n",
      "(price, 0.0449)   (size, 29.88812237)\n",
      "...                               ...\n",
      "(price, 40.0)           (size, 1e-08)\n",
      "(price, 99.0)           (size, 0.004)\n",
      "(price, 100.0)      (size, 0.6859434)\n",
      "(price, 149.0)     (size, 0.00599706)\n",
      "(price, 199.0)     (size, 0.00599707)\n",
      "\n",
      "[2572 rows x 1 columns], 'trades': Empty DataFrame\n",
      "Columns: [q, delay, num, up]\n",
      "Index: [], 'emaPrice': 0.04485052}, 'BTC-USD': {'time': datetime.datetime(2024, 8, 6, 8, 25, 44, tzinfo=TzInfo(UTC)), 'price': 55671.25384615, 'bids':                                         size\n",
      "price                                       \n",
      "(price, 55670.64)              (size, 0.015)\n",
      "(price, 55670.63)         (size, 0.11534618)\n",
      "(price, 55667.1)          (size, 0.07250573)\n",
      "(price, 55667.09)         (size, 0.11534618)\n",
      "(price, 55665.69)         (size, 0.21556339)\n",
      "...                                      ...\n",
      "(price, 0.05)         (size, 572255.3970073)\n",
      "(price, 0.04)        (size, 239981.78152199)\n",
      "(price, 0.03)        (size, 411883.69546987)\n",
      "(price, 0.02)        (size, 823157.14387365)\n",
      "(price, 0.01)      (size, 10573315.21287045)\n",
      "\n",
      "[13792 rows x 1 columns], 'asks':                                     size\n",
      "price                                   \n",
      "(price, 55673.3)            (size, 0.05)\n",
      "(price, 55673.4)      (size, 0.00062128)\n",
      "(price, 55673.44)     (size, 0.10779736)\n",
      "(price, 55674.02)     (size, 0.04546258)\n",
      "(price, 55675.14)            (size, 0.2)\n",
      "...                                  ...\n",
      "(price, 99999999.33)     (size, 8.1e-06)\n",
      "(price, 99999999.99)  (size, 0.00106266)\n",
      "(price, 100000000.0)   (size, 0.0460129)\n",
      "(price, 149000888.0)  (size, 0.00024204)\n",
      "(price, 150000000.0)  (size, 1.75220658)\n",
      "\n",
      "[17948 rows x 1 columns], 'trades': Empty DataFrame\n",
      "Columns: [q, delay, num, up]\n",
      "Index: [], 'emaPrice': 55671.25384615}, 'ETH-USD': {'time': datetime.datetime(2024, 8, 6, 8, 25, 44, tzinfo=TzInfo(UTC)), 'price': 2496.914388130001, 'bids':                                        size\n",
      "price                                      \n",
      "(price, 2496.57)         (size, 8.01044562)\n",
      "(price, 2496.56)         (size, 2.80385586)\n",
      "(price, 2496.52)         (size, 2.01441481)\n",
      "(price, 2496.51)         (size, 0.00604844)\n",
      "(price, 2496.5)           (size, 0.0046121)\n",
      "...                                     ...\n",
      "(price, 0.05)          (size, 310870.74031)\n",
      "(price, 0.04)       (size, 179783.70233099)\n",
      "(price, 0.03)       (size, 343965.77442728)\n",
      "(price, 0.02)      (size, 1197299.59768472)\n",
      "(price, 0.01)     (size, 10485572.76589178)\n",
      "\n",
      "[5617 rows x 1 columns], 'asks':                                     size\n",
      "price                                   \n",
      "(price, 2496.98)      (size, 1.52612798)\n",
      "(price, 2496.99)      (size, 1.44487051)\n",
      "(price, 2497.01)      (size, 1.09867597)\n",
      "(price, 2497.06)      (size, 1.57324539)\n",
      "(price, 2497.1)       (size, 1.73471518)\n",
      "...                                  ...\n",
      "(price, 23219999.0)   (size, 3.70399307)\n",
      "(price, 33333333.33)   (size, 0.0071867)\n",
      "(price, 34860000.0)    (size, 0.1270846)\n",
      "(price, 50555555.0)       (size, 0.0005)\n",
      "(price, 55555555.0)         (size, 0.03)\n",
      "\n",
      "[10833 rows x 1 columns], 'trades':                size         delay  num   up\n",
      "price                                      \n",
      "2496.52  0.00530693 -1726492690.0  2.0 -1.0\n",
      "2496.90  0.00017953 -1726492690.0  2.0  1.0, 'emaPrice': 2496.91438813}}\n",
      "{'ETH-BTC': {'time': datetime.datetime(2024, 8, 6, 8, 25, 45, tzinfo=TzInfo(UTC)), 'price': 0.044850010001, 'bids':                                    size\n",
      "price                                  \n",
      "(price, 0.04485)          (size, 0.008)\n",
      "(price, 0.04484)    (size, 15.27231879)\n",
      "(price, 0.04483)    (size, 28.55443584)\n",
      "(price, 0.04482)     (size, 24.0507326)\n",
      "(price, 0.04481)    (size, 10.56853926)\n",
      "...                                 ...\n",
      "(price, 5e-05)            (size, 1.988)\n",
      "(price, 4e-05)            (size, 2.485)\n",
      "(price, 3e-05)    (size, 2503.31377333)\n",
      "(price, 2e-05)             (size, 4.97)\n",
      "(price, 1e-05)        (size, 153.97466)\n",
      "\n",
      "[816 rows x 1 columns], 'asks':                                  size\n",
      "price                                \n",
      "(price, 0.04486)   (size, 7.84479889)\n",
      "(price, 0.04487)  (size, 19.49929362)\n",
      "(price, 0.04488)  (size, 31.13215108)\n",
      "(price, 0.04489)  (size, 13.78963234)\n",
      "(price, 0.0449)   (size, 29.88812237)\n",
      "...                               ...\n",
      "(price, 40.0)           (size, 1e-08)\n",
      "(price, 99.0)           (size, 0.004)\n",
      "(price, 100.0)      (size, 0.6859434)\n",
      "(price, 149.0)     (size, 0.00599706)\n",
      "(price, 199.0)     (size, 0.00599707)\n",
      "\n",
      "[2572 rows x 1 columns], 'trades': Empty DataFrame\n",
      "Columns: [q, delay, num, up]\n",
      "Index: [], 'emaPrice': 0.0448505040625}, 'BTC-USD': {'time': datetime.datetime(2024, 8, 6, 8, 25, 45, tzinfo=TzInfo(UTC)), 'price': 55673.10721853, 'bids':                                         size\n",
      "price                                       \n",
      "(price, 55670.8)               (size, 0.015)\n",
      "(price, 55670.79)         (size, 0.35925283)\n",
      "(price, 55670.78)         (size, 0.00410591)\n",
      "(price, 55670.63)         (size, 0.11534618)\n",
      "(price, 55667.11)         (size, 0.00348188)\n",
      "...                                      ...\n",
      "(price, 0.05)         (size, 572255.3970073)\n",
      "(price, 0.04)        (size, 239981.78152199)\n",
      "(price, 0.03)        (size, 411883.69546987)\n",
      "(price, 0.02)        (size, 823157.14387365)\n",
      "(price, 0.01)      (size, 10573315.21287045)\n",
      "\n",
      "[13803 rows x 1 columns], 'asks':                                     size\n",
      "price                                   \n",
      "(price, 55673.16)     (size, 0.00034315)\n",
      "(price, 55673.4)      (size, 0.00056203)\n",
      "(price, 55673.44)     (size, 0.10779736)\n",
      "(price, 55674.02)     (size, 0.04546258)\n",
      "(price, 55675.73)     (size, 0.08800962)\n",
      "...                                  ...\n",
      "(price, 99999999.33)     (size, 8.1e-06)\n",
      "(price, 99999999.99)  (size, 0.00106266)\n",
      "(price, 100000000.0)   (size, 0.0460129)\n",
      "(price, 149000888.0)  (size, 0.00024204)\n",
      "(price, 150000000.0)  (size, 1.75220658)\n",
      "\n",
      "[17961 rows x 1 columns], 'trades': Empty DataFrame\n",
      "Columns: [q, delay, num, up]\n",
      "Index: [], 'emaPrice': 55671.31176403688}, 'ETH-USD': {'time': datetime.datetime(2024, 8, 6, 8, 25, 45, tzinfo=TzInfo(UTC)), 'price': 2496.827641670001, 'bids':                                        size\n",
      "price                                      \n",
      "(price, 2496.69)             (size, 0.7875)\n",
      "(price, 2496.65)         (size, 5.60751406)\n",
      "(price, 2496.63)         (size, 8.01034937)\n",
      "(price, 2496.62)             (size, 0.7875)\n",
      "(price, 2496.53)         (size, 1.21504523)\n",
      "...                                     ...\n",
      "(price, 0.05)          (size, 310870.74031)\n",
      "(price, 0.04)       (size, 179783.70233099)\n",
      "(price, 0.03)       (size, 343965.77442728)\n",
      "(price, 0.02)      (size, 1197299.59768472)\n",
      "(price, 0.01)     (size, 10485572.76589178)\n",
      "\n",
      "[5625 rows x 1 columns], 'asks':                                     size\n",
      "price                                   \n",
      "(price, 2496.83)       (size, 0.0134929)\n",
      "(price, 2497.01)      (size, 1.09867597)\n",
      "(price, 2497.15)      (size, 1.44487051)\n",
      "(price, 2497.16)      (size, 5.04571395)\n",
      "(price, 2497.17)      (size, 8.40952314)\n",
      "...                                  ...\n",
      "(price, 23219999.0)   (size, 3.70399307)\n",
      "(price, 33333333.33)   (size, 0.0071867)\n",
      "(price, 34860000.0)    (size, 0.1270846)\n",
      "(price, 50555555.0)       (size, 0.0005)\n",
      "(price, 55555555.0)         (size, 0.03)\n",
      "\n",
      "[10837 rows x 1 columns], 'trades':                size         delay  num   up\n",
      "price                                      \n",
      "2496.52  0.00530693 -1726492691.0  2.0 -1.0\n",
      "2496.90  0.00017953 -1726492691.0  2.0  1.0, 'emaPrice': 2496.911677303125}}\n",
      "{'ETH-BTC': {'time': datetime.datetime(2024, 8, 6, 8, 25, 46, tzinfo=TzInfo(UTC)), 'price': 0.044851630001, 'bids':                                    size\n",
      "price                                  \n",
      "(price, 0.04485)     (size, 1.25868949)\n",
      "(price, 0.04484)    (size, 14.85105566)\n",
      "(price, 0.04483)    (size, 27.85273835)\n",
      "(price, 0.04482)    (size, 24.42029134)\n",
      "(price, 0.04481)    (size, 10.19898052)\n",
      "...                                 ...\n",
      "(price, 5e-05)            (size, 1.988)\n",
      "(price, 4e-05)            (size, 2.485)\n",
      "(price, 3e-05)    (size, 2503.31377333)\n",
      "(price, 2e-05)             (size, 4.97)\n",
      "(price, 1e-05)        (size, 153.97466)\n",
      "\n",
      "[816 rows x 1 columns], 'asks':                                  size\n",
      "price                                \n",
      "(price, 0.04486)   (size, 6.44266125)\n",
      "(price, 0.04487)  (size, 17.14667989)\n",
      "(price, 0.04488)  (size, 28.07936704)\n",
      "(price, 0.04489)  (size, 12.93895586)\n",
      "(price, 0.0449)   (size, 29.88812237)\n",
      "...                               ...\n",
      "(price, 40.0)           (size, 1e-08)\n",
      "(price, 99.0)           (size, 0.004)\n",
      "(price, 100.0)      (size, 0.6859434)\n",
      "(price, 149.0)     (size, 0.00599706)\n",
      "(price, 199.0)     (size, 0.00599707)\n",
      "\n",
      "[2572 rows x 1 columns], 'trades': Empty DataFrame\n",
      "Columns: [q, delay, num, up]\n",
      "Index: [], 'emaPrice': 0.04485053924804687}, 'BTC-USD': {'time': datetime.datetime(2024, 8, 6, 8, 25, 46, tzinfo=TzInfo(UTC)), 'price': 55677.64333283, 'bids':                                         size\n",
      "price                                       \n",
      "(price, 55676.92)             (size, 0.0731)\n",
      "(price, 55676.45)              (size, 0.015)\n",
      "(price, 55676.44)         (size, 0.11534618)\n",
      "(price, 55675.98)            (size, 0.43862)\n",
      "(price, 55673.41)         (size, 0.00348188)\n",
      "...                                      ...\n",
      "(price, 0.05)         (size, 572255.3970073)\n",
      "(price, 0.04)        (size, 239981.78152199)\n",
      "(price, 0.03)        (size, 411883.69546987)\n",
      "(price, 0.02)        (size, 823157.14387365)\n",
      "(price, 0.01)      (size, 10573315.21287045)\n",
      "\n",
      "[13795 rows x 1 columns], 'asks':                                     size\n",
      "price                                   \n",
      "(price, 55678.71)     (size, 0.10779736)\n",
      "(price, 55680.0)      (size, 0.05918365)\n",
      "(price, 55685.7)      (size, 0.00020301)\n",
      "(price, 55686.77)      (size, 2.695e-05)\n",
      "(price, 55688.94)           (size, 0.03)\n",
      "...                                  ...\n",
      "(price, 99999999.33)     (size, 8.1e-06)\n",
      "(price, 99999999.99)  (size, 0.00106266)\n",
      "(price, 100000000.0)   (size, 0.0460129)\n",
      "(price, 149000888.0)  (size, 0.00024204)\n",
      "(price, 150000000.0)  (size, 1.75220658)\n",
      "\n",
      "[17936 rows x 1 columns], 'trades':                           size         delay  num   up\n",
      "price                                                 \n",
      "55673.160000000003  0.00000851 -1726492691.0  2.0  1.0\n",
      "55673.160000000003  0.00015685 -1726492691.0  2.0  1.0\n",
      "55673.160000000003  0.00034315 -1726492691.0  2.0  1.0\n",
      "55673.400000000001  0.00056203 -1726492691.0  2.0  1.0\n",
      "55674.019999999997  0.04525957 -1726492691.0  2.0  1.0\n",
      "55674.019999999997  0.00020301 -1726492691.0  2.0  1.0, 'emaPrice': 55671.509625561666}, 'ETH-USD': {'time': datetime.datetime(2024, 8, 6, 8, 25, 46, tzinfo=TzInfo(UTC)), 'price': 2497.195416390001, 'bids':                                        size\n",
      "price                                      \n",
      "(price, 2497.16)         (size, 2.80317839)\n",
      "(price, 2497.05)          (size, 0.5525849)\n",
      "(price, 2497.04)             (size, 0.7875)\n",
      "(price, 2496.94)         (size, 4.80603645)\n",
      "(price, 2496.93)         (size, 8.01006064)\n",
      "...                                     ...\n",
      "(price, 0.05)          (size, 310870.74031)\n",
      "(price, 0.04)       (size, 179783.70233099)\n",
      "(price, 0.03)       (size, 343965.77442728)\n",
      "(price, 0.02)      (size, 1197299.59768472)\n",
      "(price, 0.01)     (size, 10485572.76589178)\n",
      "\n",
      "[5617 rows x 1 columns], 'asks':                                     size\n",
      "price                                   \n",
      "(price, 2497.2)       (size, 0.36278888)\n",
      "(price, 2497.21)      (size, 0.01140772)\n",
      "(price, 2497.22)      (size, 0.00137195)\n",
      "(price, 2497.23)      (size, 0.00299358)\n",
      "(price, 2497.24)      (size, 0.01019127)\n",
      "...                                  ...\n",
      "(price, 23219999.0)   (size, 3.70399307)\n",
      "(price, 33333333.33)   (size, 0.0071867)\n",
      "(price, 34860000.0)    (size, 0.1270846)\n",
      "(price, 50555555.0)       (size, 0.0005)\n",
      "(price, 55555555.0)         (size, 0.03)\n",
      "\n",
      "[10832 rows x 1 columns], 'trades':                size         delay  num   up\n",
      "price                                      \n",
      "2496.79  0.00293472 -1726492691.0  2.0 -1.0, 'emaPrice': 2496.9205441495897}}\n"
     ]
    }
   ],
   "source": [
    "async def iter_shapes(date_regexp='2024-08-06', max_samples=0):\n",
    "    symbol_shapers = {pair: BookShaper() for pair in MARKETS}\n",
    "    async for onesec in iter_sec(max_samples=2):\n",
    "        yield {\n",
    "            market: await symbol_shapers[market].update(\n",
    "                onesec.symbols[market], onesec.ts\n",
    "            )\n",
    "            for market in MARKETS\n",
    "        }\n",
    "\n",
    "\n",
    "async for shaped in iter_shapes():\n",
    "    print(shaped)\n"
   ]
  },
  {
   "cell_type": "code",
   "execution_count": null,
   "metadata": {},
   "outputs": [],
   "source": [
    "multi_replay = file_replayer.multireplayL2_async(MARKETS)\n",
    "d = await next(multi_replay)\n",
    "d"
   ]
  },
  {
   "cell_type": "code",
   "execution_count": null,
   "metadata": {},
   "outputs": [],
   "source": [
    "async def run(maxpoints=10):\n",
    "    async for i in iter(range(maxpoints)):\n",
    "        d = await next(multi_replay)\n",
    "    #return d\n",
    "\n",
    "task = asyncio.create_task(run())\n",
    "await task"
   ]
  },
  {
   "cell_type": "code",
   "execution_count": null,
   "metadata": {},
   "outputs": [],
   "source": []
  },
  {
   "cell_type": "code",
   "execution_count": 13,
   "metadata": {},
   "outputs": [
    {
     "data": {
      "application/vnd.jupyter.widget-view+json": {
       "model_id": "a34c7d3ddcb545b0b87186b62f7e9235",
       "version_major": 2,
       "version_minor": 0
      },
      "text/plain": [
       "  0%|          | 0/2 [00:00<?, ?it/s]"
      ]
     },
     "metadata": {},
     "output_type": "display_data"
    },
    {
     "data": {
      "application/vnd.jupyter.widget-view+json": {
       "model_id": "dee6b5ab5ba34d878308de36d0cc11ea",
       "version_major": 2,
       "version_minor": 0
      },
      "text/plain": [
       "0it [00:00, ?it/s]"
      ]
     },
     "metadata": {},
     "output_type": "display_data"
    },
    {
     "ename": "TypeError",
     "evalue": "BookShaper.gen_array_async() missing 1 required positional argument: 'markets'",
     "output_type": "error",
     "traceback": [
      "\u001b[0;31m---------------------------------------------------------------------------\u001b[0m",
      "\u001b[0;31mTypeError\u001b[0m                                 Traceback (most recent call last)",
      "Cell \u001b[0;32mIn[13], line 6\u001b[0m\n\u001b[1;32m      3\u001b[0m     \u001b[38;5;28;01masync\u001b[39;00m \u001b[38;5;28;01mfor\u001b[39;00m onesec \u001b[38;5;129;01min\u001b[39;00m iter_sec(max_samples\u001b[38;5;241m=\u001b[39mmax_samples):\n\u001b[1;32m      4\u001b[0m         \u001b[38;5;28;01myield\u001b[39;00m \u001b[38;5;28;01mawait\u001b[39;00m shaper\u001b[38;5;241m.\u001b[39mgen_array_async(onesec)\n\u001b[0;32m----> 6\u001b[0m \u001b[38;5;28;01masync\u001b[39;00m \u001b[38;5;28;01mfor\u001b[39;00m arr \u001b[38;5;129;01min\u001b[39;00m iter_gen_arrays(max_samples\u001b[38;5;241m=\u001b[39m\u001b[38;5;241m2\u001b[39m):\n\u001b[1;32m      7\u001b[0m     \u001b[38;5;28mprint\u001b[39m(arr)\n\u001b[1;32m      9\u001b[0m genarr \u001b[38;5;241m=\u001b[39m shaper\u001b[38;5;241m.\u001b[39mgen_array_async(market_replay\u001b[38;5;241m=\u001b[39mmulti_replay, markets\u001b[38;5;241m=\u001b[39mMARKETS)\n",
      "Cell \u001b[0;32mIn[13], line 4\u001b[0m, in \u001b[0;36miter_gen_arrays\u001b[0;34m(date_regexp, max_samples)\u001b[0m\n\u001b[1;32m      2\u001b[0m shaper \u001b[38;5;241m=\u001b[39m BookShaper()\n\u001b[1;32m      3\u001b[0m \u001b[38;5;28;01masync\u001b[39;00m \u001b[38;5;28;01mfor\u001b[39;00m onesec \u001b[38;5;129;01min\u001b[39;00m iter_sec(max_samples\u001b[38;5;241m=\u001b[39mmax_samples):\n\u001b[0;32m----> 4\u001b[0m     \u001b[38;5;28;01myield\u001b[39;00m \u001b[38;5;28;01mawait\u001b[39;00m \u001b[43mshaper\u001b[49m\u001b[38;5;241;43m.\u001b[39;49m\u001b[43mgen_array_async\u001b[49m\u001b[43m(\u001b[49m\u001b[43monesec\u001b[49m\u001b[43m)\u001b[49m\n",
      "\u001b[0;31mTypeError\u001b[0m: BookShaper.gen_array_async() missing 1 required positional argument: 'markets'"
     ]
    }
   ],
   "source": [
    "async def iter_gen_arrays(date_regexp='2024-08-06', max_samples=0):\n",
    "    shaper = BookShaper()\n",
    "    async for onesec in iter_sec(max_samples=max_samples):\n",
    "        yield await shaper.gen_array_async(onesec)\n",
    "\n",
    "async for arr in iter_gen_arrays(max_samples=2):\n",
    "    print(arr)\n",
    "\n",
    "genarr = shaper.gen_array_async(market_replay=multi_replay, markets=MARKETS)\n",
    "_ = await next(genarr)\n",
    "_"
   ]
  },
  {
   "cell_type": "code",
   "execution_count": null,
   "metadata": {},
   "outputs": [],
   "source": [
    "genacc = shaper.accumulate_array(genarr, markets=MARKETS)\n",
    "_ = await next(genacc)\n",
    "_"
   ]
  },
  {
   "cell_type": "code",
   "execution_count": null,
   "metadata": {},
   "outputs": [],
   "source": [
    "async for toshow in BookShaper.images(accumulated_arrays=genacc, every=1, LENGTH=512):\n",
    "    plt.figure(figsize=(15,11))\n",
    "    plt.imshow(toshow, origin=\"upper\")\n",
    "    clear_output(wait=True)\n",
    "    plt.show()"
   ]
  },
  {
   "cell_type": "code",
   "execution_count": null,
   "metadata": {},
   "outputs": [],
   "source": [
    "every = 2\n",
    "LENGTH = 256\n",
    "x = []\n",
    "async for n,sec in enumerate(genacc):\n",
    "    allim = []\n",
    "    for symb, data in sec.items():\n",
    "        arr = np.stack(data['bs'][-LENGTH:])\n",
    "        im = arr\n",
    "        im[:,:,0] /= 10\n",
    "        im += 0.5\n",
    "        allim.append(im)\n",
    "    allim = np.concatenate(allim, axis=1)\n",
    "    if n % every == 0:\n",
    "        plt.figure(figsize=(15,11))\n",
    "        toshow = allim.transpose(1,0,2)\n",
    "        toshow = np.clip(toshow, 0, 1)\n",
    "        plt.imshow(toshow, origin=\"lower\")\n",
    "        plt.show()\n",
    "        # pr = np.stack(data['ps'])[-LENGTH:, :-1]\n",
    "        # plt.plot(pr)\n",
    "        # plt.show()\n",
    "#        print(symb)\n",
    "        clear_output(wait=True)\n",
    "#        plt.show()\n",
    "#    if n == 100:\n",
    "#        break\n",
    "    pass"
   ]
  },
  {
   "cell_type": "code",
   "execution_count": null,
   "metadata": {},
   "outputs": [],
   "source": []
  }
 ],
 "metadata": {
  "kernelspec": {
   "display_name": "Python 3",
   "language": "python",
   "name": "python3"
  },
  "language_info": {
   "codemirror_mode": {
    "name": "ipython",
    "version": 3
   },
   "file_extension": ".py",
   "mimetype": "text/x-python",
   "name": "python",
   "nbconvert_exporter": "python",
   "pygments_lexer": "ipython3",
   "version": "3.11.9"
  }
 },
 "nbformat": 4,
 "nbformat_minor": 4
}

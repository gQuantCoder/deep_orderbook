{
 "cells": [
  {
   "cell_type": "code",
   "execution_count": 1,
   "metadata": {},
   "outputs": [],
   "source": [
    "from deep_orderbook.shaper import BookShaper, ArrayShaper\n",
    "import numpy as np\n",
    "from pylab import rcParams\n",
    "from tqdm.auto import tqdm"
   ]
  },
  {
   "cell_type": "code",
   "execution_count": 2,
   "metadata": {},
   "outputs": [],
   "source": [
    "import matplotlib.pyplot as plt\n",
    "import seaborn as sns\n",
    "import seaborn_image as isns\n",
    "from IPython.display import clear_output\n",
    "rcParams['figure.figsize'] = 20, 4"
   ]
  },
  {
   "cell_type": "code",
   "execution_count": 3,
   "metadata": {},
   "outputs": [],
   "source": [
    "MARKETS = [\"ETH-BTC\", \"BTC-USD\", \"ETH-USD\"]"
   ]
  },
  {
   "cell_type": "code",
   "execution_count": 4,
   "metadata": {},
   "outputs": [],
   "source": [
    "# itertools for asyncio !\n",
    "import asyncio\n",
    "from aioitertools import iter, next, map, zip\n",
    "from aioitertools import enumerate"
   ]
  },
  {
   "cell_type": "code",
   "execution_count": null,
   "metadata": {},
   "outputs": [],
   "source": [
    "from deep_orderbook.feeds.coinbase_feed import CoinbaseFeed\n",
    "from deep_orderbook.replayer import ParquetReplayer\n",
    "\n",
    "async def iter_sec(date_regexp='2024-08-06', max_samples=0):\n",
    "    replayer = ParquetReplayer('data', date_regexp=date_regexp)\n",
    "    async with CoinbaseFeed(\n",
    "        markets=MARKETS,\n",
    "        replayer=replayer,\n",
    "    ) as feed:\n",
    "        async for onesec in feed.one_second_iterator():\n",
    "            yield onesec\n",
    "            if max_samples == 0:\n",
    "                break\n",
    "            else:\n",
    "                max_samples -= 1\n",
    "\n",
    "async for onesec in iter_sec(max_samples=3):\n",
    "    print(onesec)"
   ]
  },
  {
   "cell_type": "code",
   "execution_count": null,
   "metadata": {},
   "outputs": [],
   "source": [
    "async def iter_shapes(date_regexp='2024-08-06', max_samples=0):\n",
    "    symbol_shapers = {pair: ArrayShaper(zoom_frac=0.002) for pair in MARKETS}\n",
    "    async for onesec in iter_sec(max_samples=max_samples):\n",
    "        yield {\n",
    "            market: await symbol_shapers[market].make_arr3d(\n",
    "                onesec.symbols[market]\n",
    "            )\n",
    "            for market in MARKETS\n",
    "        }\n",
    "\n",
    "async for shaped in iter_shapes(max_samples=1):\n",
    "    print(shaped)\n"
   ]
  },
  {
   "cell_type": "code",
   "execution_count": null,
   "metadata": {},
   "outputs": [],
   "source": [
    "async def iter_gen_arrays(date_regexp='2024-08-06', max_samples=0):\n",
    "    async for shapes in iter_shapes(max_samples=max_samples):\n",
    "        yield shapes['ETH-USD'].transpose(1, 0, 2)\n",
    "        # yield np.hstack([shapes[market] for market in MARKETS]).transpose(1, 0, 2)\n",
    "\n",
    "\n",
    "async for arr in iter_gen_arrays(max_samples=10):\n",
    "    im = arr.copy()\n",
    "    im[:,:,0] *= -0.2\n",
    "    im[:,:,1:3] *= 1e6\n",
    "    isns.imshow(im, origin='lower', cmap='coolwarm', vmin=-1, vmax=1, gray=True)\n",
    "    clear_output(wait=True)\n",
    "    plt.show()\n"
   ]
  },
  {
   "cell_type": "code",
   "execution_count": null,
   "metadata": {},
   "outputs": [],
   "source": [
    "async def iter_shapes_t2l(date_regexp='2024-08-06', max_samples=0):\n",
    "    symbol_shaper = ArrayShaper(zoom_frac=0.002)\n",
    "    async for onesec in iter_sec(max_samples=max_samples):\n",
    "        yield [\n",
    "            await symbol_shaper.make_arr3d(onesec.symbols['ETH-USD']),\n",
    "            await symbol_shaper.build_time_level_trade(),\n",
    "            symbol_shaper.prices_array\n",
    "        ]\n",
    "\n",
    "\n",
    "async for shaped, t2l, pxar in iter_shapes_t2l(max_samples=1000):\n",
    "    clear_output(wait=True)\n",
    "    toshow = np.clip(t2l[:,:,0].copy().T, -1000, 1000)\n",
    "    \n",
    "    im = shaped.copy().transpose(1, 0, 2)\n",
    "    im[:,:,0] *= -0.2\n",
    "    im[:,:,1:3] *= 1e6\n",
    "    bk = isns.imshow(im, origin='lower', cmap='coolwarm', vmin=-1, vmax=1, gray=True)\n",
    "    tl = isns.imshow(toshow, cmap='nipy_spectral', origin=\"lower\", vmin=0, vmax=150)\n",
    "    plt.show()\n",
    "    source = pd.DataFrame({\"t\": np.arange(pxar.shape[0]), \"p\": pxar[:,0]})\n",
    "    chart = alt.Chart(source, width=1024).encode()\n",
    "    line = chart.mark_line().encode(x=\"t:Q\", y=alt.Y('p:Q', scale=alt.Scale(zero=False)))\n",
    "    line.show()\n"
   ]
  },
  {
   "cell_type": "code",
   "execution_count": null,
   "metadata": {},
   "outputs": [],
   "source": [
    "import altair as alt\n",
    "import pandas as pd\n",
    "\n",
    "source = pd.DataFrame({\"t\": np.arange(pxar.shape[0]), \"p\": pxar[:,0]})\n",
    "chart = alt.Chart(source).encode()\n",
    "line = chart.mark_line().encode(x=\"t:Q\", y=\"p:Q\")\n",
    "line"
   ]
  }
 ],
 "metadata": {
  "kernelspec": {
   "display_name": "Python 3",
   "language": "python",
   "name": "python3"
  },
  "language_info": {
   "codemirror_mode": {
    "name": "ipython",
    "version": 3
   },
   "file_extension": ".py",
   "mimetype": "text/x-python",
   "name": "python",
   "nbconvert_exporter": "python",
   "pygments_lexer": "ipython3",
   "version": "3.11.8"
  }
 },
 "nbformat": 4,
 "nbformat_minor": 4
}

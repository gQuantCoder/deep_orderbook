{
 "cells": [
  {
   "cell_type": "code",
   "execution_count": null,
   "metadata": {},
   "outputs": [],
   "source": [
    "from deep_orderbook.config import ReplayConfig, ShaperConfig\n",
    "from deep_orderbook.shaper import iter_shapes_t2l\n",
    "from deep_orderbook.visu import Visualizer\n",
    "from deep_orderbook.strategy import Strategy\n",
    "\n",
    "replay_conf = ReplayConfig(\n",
    "    markets=[\"ETH-USD\"],#, \"BTC-USD\", \"ETH-BTC\"],\n",
    "    data_dir='/media/photoDS216/crypto/',\n",
    "    date_regexp='2025-02*',\n",
    "    max_samples=-1,\n",
    "    every=\"100ms\",\n",
    ")\n",
    "shaper_config = ShaperConfig(\n",
    "    only_full_arrays=False,\n",
    "    view_bips = 5,\n",
    "    num_side_lvl = 8,\n",
    "    look_ahead = 32,\n",
    "    look_ahead_side_bips = 5,\n",
    "    look_ahead_side_width = 4,\n",
    "    rolling_window_size = 256,\n",
    "    window_stride = 16,\n",
    ")\n",
    "\n",
    "vis = Visualizer()\n",
    "strategy = Strategy(threshold=0.2)\n",
    "async def rolling_plot(config: ReplayConfig):\n",
    "    async for books_array, level_prox, pxar in iter_shapes_t2l(\n",
    "        replay_config=config, #.but(every=\"200ms\"),\n",
    "        shaper_config=shaper_config, #.but(view_bips=4, look_ahead_side_bips=1)\n",
    "    ):\n",
    "         gt_pnl, pos, gt_up_prox, gt_down_prox = strategy.compute_pnl(pxar, level_prox)\n",
    "         vis.update(\n",
    "             books_z_data=books_array, level_reach_z_data=level_prox, bidask=pxar,\n",
    "             gt_pnl=gt_pnl, positions=pos,\n",
    "         )\n",
    "\n",
    "await rolling_plot(config=replay_conf.but(\n",
    "        # max_samples=1000, \n",
    "        # skip_until_time=\"23:15\",\n",
    "    )\n",
    ")"
   ]
  },
  {
   "cell_type": "code",
   "execution_count": null,
   "metadata": {},
   "outputs": [],
   "source": []
  }
 ],
 "metadata": {
  "kernelspec": {
   "display_name": "Python 3 (ipykernel)",
   "language": "python",
   "name": "python3"
  },
  "language_info": {
   "codemirror_mode": {
    "name": "ipython",
    "version": 3
   },
   "file_extension": ".py",
   "mimetype": "text/x-python",
   "name": "python",
   "nbconvert_exporter": "python",
   "pygments_lexer": "ipython3",
   "version": "3.12.8"
  }
 },
 "nbformat": 4,
 "nbformat_minor": 4
}

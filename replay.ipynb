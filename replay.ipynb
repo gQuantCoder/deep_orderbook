{
 "cells": [
  {
   "cell_type": "code",
   "execution_count": null,
   "metadata": {},
   "outputs": [],
   "source": [
    "from deep_orderbook.replayer import Replayer\n",
    "from deep_orderbook.shaper import BookShaper\n",
    "import numpy as np\n",
    "from pylab import rcParams"
   ]
  },
  {
   "cell_type": "code",
   "execution_count": null,
   "metadata": {},
   "outputs": [],
   "source": [
    "import matplotlib.pyplot as plt\n",
    "from IPython.display import clear_output\n",
    "rcParams['figure.figsize'] = 20, 4"
   ]
  },
  {
   "cell_type": "code",
   "execution_count": null,
   "metadata": {},
   "outputs": [],
   "source": [
    "MARKETS = [\"ETH-BTC\", \"BTC-USD\", \"ETH-USD\"]"
   ]
  },
  {
   "cell_type": "code",
   "execution_count": null,
   "metadata": {},
   "outputs": [],
   "source": [
    "# itertools for asyncio !\n",
    "import asyncio\n",
    "from aioitertools import iter, next, map, zip\n",
    "from aioitertools import enumerate"
   ]
  },
  {
   "cell_type": "code",
   "execution_count": null,
   "metadata": {},
   "outputs": [],
   "source": [
    "shaper = BookShaper()\n",
    "file_replayer = Replayer('../crypto-trading/data/L2', date_regexp='2020')\n",
    "areplay = file_replayer.replayL2_async(pair='ETHBTC', shaper=shaper)\n",
    "await next(areplay)\n",
    "batptr = await next(areplay)"
   ]
  },
  {
   "cell_type": "code",
   "execution_count": null,
   "metadata": {},
   "outputs": [],
   "source": [
    "for i in range(100):\n",
    "    batptr = await next(areplay)\n",
    "print(f\"bids:\\n{batptr['bids'].head()}\")\n",
    "print(f\"asks:\\n{batptr['asks'].head()}\")\n",
    "print(f\"prices:\\n{batptr['price']}\")\n",
    "print(f\"trades:\\n{batptr['trades']}\")"
   ]
  },
  {
   "cell_type": "code",
   "execution_count": null,
   "metadata": {},
   "outputs": [],
   "source": [
    "multi_replay = file_replayer.multireplayL2_async(MARKETS)\n",
    "d = await next(multi_replay)\n",
    "d"
   ]
  },
  {
   "cell_type": "code",
   "execution_count": null,
   "metadata": {},
   "outputs": [],
   "source": [
    "async def run(maxpoints=10):\n",
    "    async for i in iter(range(maxpoints)):\n",
    "        d = await next(multi_replay)\n",
    "    #return d\n",
    "\n",
    "task = asyncio.create_task(run())\n",
    "await task"
   ]
  },
  {
   "cell_type": "code",
   "execution_count": null,
   "metadata": {},
   "outputs": [],
   "source": []
  },
  {
   "cell_type": "code",
   "execution_count": null,
   "metadata": {},
   "outputs": [],
   "source": [
    "genarr = shaper.gen_array_async(market_replay=multi_replay, markets=MARKETS)\n",
    "_ = await next(genarr)\n",
    "_"
   ]
  },
  {
   "cell_type": "code",
   "execution_count": null,
   "metadata": {},
   "outputs": [],
   "source": [
    "genacc = shaper.accumulate_array(genarr, markets=MARKETS)\n",
    "_ = await next(genacc)\n",
    "_"
   ]
  },
  {
   "cell_type": "code",
   "execution_count": null,
   "metadata": {},
   "outputs": [],
   "source": [
    "async for toshow in BookShaper.images(accumulated_arrays=genacc, every=1, LENGTH=512):\n",
    "    plt.figure(figsize=(15,11))\n",
    "    plt.imshow(toshow, origin=\"upper\")\n",
    "    clear_output(wait=True)\n",
    "    plt.show()"
   ]
  },
  {
   "cell_type": "code",
   "execution_count": null,
   "metadata": {},
   "outputs": [],
   "source": [
    "every = 2\n",
    "LENGTH = 256\n",
    "x = []\n",
    "async for n,sec in enumerate(genacc):\n",
    "    allim = []\n",
    "    for symb, data in sec.items():\n",
    "        arr = np.stack(data['bs'][-LENGTH:])\n",
    "        im = arr\n",
    "        im[:,:,0] /= 10\n",
    "        im += 0.5\n",
    "        allim.append(im)\n",
    "    allim = np.concatenate(allim, axis=1)\n",
    "    if n % every == 0:\n",
    "        plt.figure(figsize=(15,11))\n",
    "        toshow = allim.transpose(1,0,2)\n",
    "        toshow = np.clip(toshow, 0, 1)\n",
    "        plt.imshow(toshow, origin=\"lower\")\n",
    "        plt.show()\n",
    "        # pr = np.stack(data['ps'])[-LENGTH:, :-1]\n",
    "        # plt.plot(pr)\n",
    "        # plt.show()\n",
    "#        print(symb)\n",
    "        clear_output(wait=True)\n",
    "#        plt.show()\n",
    "#    if n == 100:\n",
    "#        break\n",
    "    pass"
   ]
  },
  {
   "cell_type": "code",
   "execution_count": null,
   "metadata": {},
   "outputs": [],
   "source": []
  }
 ],
 "metadata": {
  "kernelspec": {
   "display_name": "Python 3",
   "language": "python",
   "name": "python3"
  },
  "language_info": {
   "codemirror_mode": {
    "name": "ipython",
    "version": 3
   },
   "file_extension": ".py",
   "mimetype": "text/x-python",
   "name": "python",
   "nbconvert_exporter": "python",
   "pygments_lexer": "ipython3",
   "version": "3.11.9"
  }
 },
 "nbformat": 4,
 "nbformat_minor": 4
}

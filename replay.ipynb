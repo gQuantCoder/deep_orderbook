{
 "cells": [
  {
   "cell_type": "code",
   "execution_count": 2,
   "metadata": {},
   "outputs": [
    {
     "name": "stdout",
     "output_type": "stream",
     "text": [
      "0 BNBUSDT files\n"
     ]
    },
    {
     "ename": "IndexError",
     "evalue": "list index out of range",
     "output_type": "error",
     "traceback": [
      "\u001b[0;31m---------------------------------------------------------------------------\u001b[0m",
      "\u001b[0;31mIndexError\u001b[0m                                Traceback (most recent call last)",
      "\u001b[0;32m<ipython-input-2-9197ff6e275f>\u001b[0m in \u001b[0;36m<module>\u001b[0;34m\u001b[0m\n\u001b[1;32m      6\u001b[0m \u001b[0;34m\u001b[0m\u001b[0m\n\u001b[1;32m      7\u001b[0m \u001b[0mprint\u001b[0m\u001b[0;34m(\u001b[0m\u001b[0mlen\u001b[0m\u001b[0;34m(\u001b[0m\u001b[0mreplay\u001b[0m\u001b[0;34m.\u001b[0m\u001b[0mupdates\u001b[0m\u001b[0;34m(\u001b[0m\u001b[0;34m'BNBUSDT'\u001b[0m\u001b[0;34m)\u001b[0m\u001b[0;34m)\u001b[0m\u001b[0;34m,\u001b[0m \u001b[0;34m\"BNBUSDT files\"\u001b[0m\u001b[0;34m)\u001b[0m\u001b[0;34m\u001b[0m\u001b[0;34m\u001b[0m\u001b[0m\n\u001b[0;32m----> 8\u001b[0;31m \u001b[0mfile_0\u001b[0m \u001b[0;34m=\u001b[0m \u001b[0mreplay\u001b[0m\u001b[0;34m.\u001b[0m\u001b[0mupdates\u001b[0m\u001b[0;34m(\u001b[0m\u001b[0;34m'BNBUSDT'\u001b[0m\u001b[0;34m)\u001b[0m\u001b[0;34m[\u001b[0m\u001b[0;36m0\u001b[0m\u001b[0;34m]\u001b[0m\u001b[0;34m\u001b[0m\u001b[0;34m\u001b[0m\u001b[0m\n\u001b[0m\u001b[1;32m      9\u001b[0m \u001b[0mprint\u001b[0m\u001b[0;34m(\u001b[0m\u001b[0;34m'sample from '\u001b[0m\u001b[0;34m,\u001b[0m \u001b[0mfile_0\u001b[0m\u001b[0;34m,\u001b[0m \u001b[0mreplay\u001b[0m\u001b[0;34m.\u001b[0m\u001b[0msample\u001b[0m\u001b[0;34m(\u001b[0m\u001b[0mfile_0\u001b[0m\u001b[0;34m)\u001b[0m\u001b[0;34m)\u001b[0m\u001b[0;34m\u001b[0m\u001b[0;34m\u001b[0m\u001b[0m\n\u001b[1;32m     10\u001b[0m \u001b[0;34m\u001b[0m\u001b[0m\n",
      "\u001b[0;31mIndexError\u001b[0m: list index out of range"
     ]
    }
   ],
   "source": [
    "from deep_orderbook import replay\n",
    "\n",
    "MARKETS = [\"ETHBTC\", \"BTCUSDT\", \"ETHUSDT\", \"BNBBTC\", \"BNBETH\", \"BNBUSDT\"]\n",
    "\n",
    "len(replay.snapshots('BNBUSDT'))\n",
    "\n",
    "print(len(replay.updates('BNBUSDT')), \"BNBUSDT files\")\n",
    "file_0 = replay.updates('BNBUSDT')[0]\n",
    "print('sample from ', file_0, replay.sample(file_0))\n",
    "\n",
    "print(len(replay.trades_file('BNBUSDT')), \"files\")\n",
    "alltrdf = replay.tradesframe(replay.trades_file('BNBUSDT')[2]).tail()\n",
    "print('alltrdf', alltrdf)\n",
    "\n",
    "b, a, p = replay.buildL2(replay.snapshots('BNBUSDT')[0])\n",
    "print(b.shape, a.shape, p)\n",
    "\n",
    "replayer = replay.replayL2('ETHBTC')\n",
    "b, a, tp, tr = next(replayer)\n",
    "print('tp', tp)\n",
    "print('tr', tr)\n",
    "\n",
    "\n",
    "for i in range(2700):\n",
    "    b, a, tp, tr = next(replayer)\n",
    "    if len(tr) > 5:\n",
    "        break\n",
    "print('tp', tp)\n",
    "print('tr', tr)\n",
    "\n",
    "\n",
    "print('min diff price ask:', a.reset_index()['price'].diff().min())\n",
    "print('bid', b.head())\n",
    "print('ask', a.head())\n",
    "\n",
    "bined_b, bined_a, treind_b, treind_a = replay.bin_books(b, a, tr, ref_price=tp['price'])\n",
    "\n",
    "\n",
    "genacc = replay.accumulate_array(['ETHBTC'])\n",
    "\n",
    "\n",
    "sa = next(genacc)\n",
    "print('shapes\\n', {k: {k2: [ai.shape for ai in a] for k2,a in ars.items()} for k,ars in sa.items()})\n",
    "\n",
    "for n,x in enumerate(genacc):\n",
    "    pass\n",
    "\n",
    "for m in MARKETS[:3]:\n",
    "    arrays = replay.sampleArrays(m)\n",
    "    replay.sampleImages(**arrays)"
   ]
  }
 ],
 "metadata": {
  "kernelspec": {
   "display_name": "Python 3",
   "language": "python",
   "name": "python3"
  },
  "language_info": {
   "codemirror_mode": {
    "name": "ipython",
    "version": 3
   },
   "file_extension": ".py",
   "mimetype": "text/x-python",
   "name": "python",
   "nbconvert_exporter": "python",
   "pygments_lexer": "ipython3",
   "version": "3.7.3"
  }
 },
 "nbformat": 4,
 "nbformat_minor": 2
}

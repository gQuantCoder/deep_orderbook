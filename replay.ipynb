{
 "cells": [
  {
   "cell_type": "code",
   "execution_count": null,
   "metadata": {},
   "outputs": [],
   "source": [
    "from deep_orderbook.shaper import BookShaper, ArrayShaper\n",
    "import numpy as np\n",
    "from pylab import rcParams"
   ]
  },
  {
   "cell_type": "code",
   "execution_count": null,
   "metadata": {},
   "outputs": [],
   "source": [
    "import matplotlib.pyplot as plt\n",
    "import seaborn as sns\n",
    "import seaborn_image as isns\n",
    "from IPython.display import clear_output\n",
    "rcParams['figure.figsize'] = 20, 4"
   ]
  },
  {
   "cell_type": "code",
   "execution_count": null,
   "metadata": {},
   "outputs": [],
   "source": [
    "MARKETS = [\"ETH-BTC\", \"BTC-USD\", \"ETH-USD\"]"
   ]
  },
  {
   "cell_type": "code",
   "execution_count": null,
   "metadata": {},
   "outputs": [],
   "source": [
    "# itertools for asyncio !\n",
    "import asyncio\n",
    "from aioitertools import iter, next, map, zip\n",
    "from aioitertools import enumerate"
   ]
  },
  {
   "cell_type": "code",
   "execution_count": null,
   "metadata": {},
   "outputs": [],
   "source": [
    "from deep_orderbook.feeds.coinbase_feed import CoinbaseFeed\n",
    "from deep_orderbook.replayer import ParquetReplayer\n",
    "\n",
    "async def iter_sec(date_regexp='2024-08-06', max_samples=0):\n",
    "    replayer = ParquetReplayer('data', date_regexp=date_regexp)\n",
    "    async with CoinbaseFeed(\n",
    "        markets=MARKETS,\n",
    "        replayer=replayer,\n",
    "    ) as feed:\n",
    "        async for onesec in feed.one_second_iterator():\n",
    "            yield onesec\n",
    "            if max_samples == 0:\n",
    "                break\n",
    "            else:\n",
    "                max_samples -= 1\n",
    "\n",
    "async for onesec in iter_sec(max_samples=3):\n",
    "    print(onesec)"
   ]
  },
  {
   "cell_type": "code",
   "execution_count": null,
   "metadata": {},
   "outputs": [],
   "source": [
    "async def iter_shapes(date_regexp='2024-08-06', max_samples=0):\n",
    "    symbol_shapers = {pair: ArrayShaper(zoom_frac=0.01) for pair in MARKETS}\n",
    "    async for onesec in iter_sec(max_samples=max_samples):\n",
    "        yield {\n",
    "            market: await symbol_shapers[market].make_arr3d(\n",
    "                onesec.symbols[market]\n",
    "            )\n",
    "            for market in MARKETS\n",
    "        }\n",
    "        if max_samples == 0:\n",
    "            break\n",
    "        else:\n",
    "            max_samples -= 1\n",
    "\n",
    "\n",
    "async for shaped in iter_shapes(max_samples=1):\n",
    "    print(shaped)\n"
   ]
  },
  {
   "cell_type": "code",
   "execution_count": null,
   "metadata": {},
   "outputs": [],
   "source": [
    "async def iter_gen_arrays(date_regexp='2024-08-06', max_samples=0):\n",
    "    async for shapes in iter_shapes(max_samples=max_samples):\n",
    "        yield shapes['BTC-USD'].transpose(1, 0, 2)\n",
    "#        yield np.hstack([shapes[market] for market in MARKETS]).transpose(1, 0, 2)\n",
    "\n",
    "\n",
    "plt.figure(figsize=(25,11))\n",
    "async for arr in iter_gen_arrays(max_samples=1000):\n",
    "    im = arr.copy()\n",
    "    im[:,:,0] /= 10\n",
    "    # im[:,:,1] *= 10\n",
    "    # im[:,:,2] *= 10\n",
    "    im += 0.5\n",
    "    im = np.roll(im, 2, axis=2)\n",
    "    print(im.min(), im.max())\n",
    "    im = im.clip(0, 1)\n",
    "    isns.imshow(im, origin='lower', cmap='inferno')#, gray=True)\n",
    "    clear_output(wait=True)\n",
    "    plt.show()\n",
    "    print(arr.shape)\n",
    "    # im[:,:,1] *= 10\n",
    "    # im[:,:,2] *= 10\n"
   ]
  },
  {
   "cell_type": "code",
   "execution_count": null,
   "metadata": {},
   "outputs": [],
   "source": [
    "every = 2\n",
    "LENGTH = 256\n",
    "x = []\n",
    "async for n,sec in enumerate(genacc):\n",
    "    allim = []\n",
    "    for symb, data in sec.items():\n",
    "        arr = np.stack(data['bs'][-LENGTH:])\n",
    "        im = arr\n",
    "        im[:,:,0] /= 10\n",
    "        im += 0.5\n",
    "        allim.append(im)\n",
    "    allim = np.concatenate(allim, axis=1)\n",
    "    if n % every == 0:\n",
    "        plt.figure(figsize=(15,11))\n",
    "        toshow = allim.transpose(1,0,2)\n",
    "        toshow = np.clip(toshow, 0, 1)\n",
    "        isns.imshow(toshow, origin=\"lower\")\n",
    "        plt.show()\n",
    "        # pr = np.stack(data['ps'])[-LENGTH:, :-1]\n",
    "        # plt.plot(pr)\n",
    "        # plt.show()\n",
    "#        print(symb)\n",
    "        clear_output(wait=True)\n",
    "#        plt.show()\n",
    "#    if n == 100:\n",
    "#        break\n",
    "    pass"
   ]
  },
  {
   "cell_type": "code",
   "execution_count": null,
   "metadata": {},
   "outputs": [],
   "source": []
  },
  {
   "cell_type": "code",
   "execution_count": null,
   "metadata": {},
   "outputs": [],
   "source": []
  }
 ],
 "metadata": {
  "kernelspec": {
   "display_name": "Python 3",
   "language": "python",
   "name": "python3"
  },
  "language_info": {
   "codemirror_mode": {
    "name": "ipython",
    "version": 3
   },
   "file_extension": ".py",
   "mimetype": "text/x-python",
   "name": "python",
   "nbconvert_exporter": "python",
   "pygments_lexer": "ipython3",
   "version": "3.11.8"
  }
 },
 "nbformat": 4,
 "nbformat_minor": 4
}

{
 "cells": [
  {
   "cell_type": "code",
   "execution_count": 1,
   "metadata": {},
   "outputs": [],
   "source": [
    "from deep_orderbook.replayer import Replayer\n",
    "from deep_orderbook.shapper import BookShapper\n",
    "import numpy as np\n",
    "from pylab import rcParams"
   ]
  },
  {
   "cell_type": "code",
   "execution_count": 2,
   "metadata": {},
   "outputs": [],
   "source": [
    "import matplotlib.pyplot as plt\n",
    "from IPython.display import clear_output\n",
    "rcParams['figure.figsize'] = 20, 4"
   ]
  },
  {
   "cell_type": "code",
   "execution_count": 14,
   "metadata": {},
   "outputs": [
    {
     "data": {
      "application/vnd.jupyter.widget-view+json": {
       "model_id": "343d080472ce4d43ae45df2a7ffdb38a",
       "version_major": 2,
       "version_minor": 0
      },
      "text/plain": [
       "HBox(children=(FloatProgress(value=0.0, max=23.0), HTML(value='')))"
      ]
     },
     "metadata": {},
     "output_type": "display_data"
    },
    {
     "name": "stdout",
     "output_type": "stream",
     "text": [
      "\n"
     ]
    },
    {
     "data": {
      "application/vnd.jupyter.widget-view+json": {
       "model_id": "66a62135fb4043f889493337a4c1ce3f",
       "version_major": 2,
       "version_minor": 0
      },
      "text/plain": [
       "HBox(children=(FloatProgress(value=0.0, max=22.0), HTML(value='')))"
      ]
     },
     "metadata": {},
     "output_type": "display_data"
    },
    {
     "data": {
      "application/vnd.jupyter.widget-view+json": {
       "model_id": "",
       "version_major": 2,
       "version_minor": 0
      },
      "text/plain": [
       "HBox(children=(FloatProgress(value=0.0, max=19.0), HTML(value='')))"
      ]
     },
     "metadata": {},
     "output_type": "display_data"
    }
   ],
   "source": [
    "shapper = await BookShapper.create()\n",
    "file_replayer = Replayer('../crypto-trading/data/L2')\n",
    "replay = file_replayer.replayL2('ETHBTC', shapper)\n",
    "b, a, tp, tr = next(replay)"
   ]
  },
  {
   "cell_type": "code",
   "execution_count": 15,
   "metadata": {},
   "outputs": [
    {
     "data": {
      "application/vnd.jupyter.widget-view+json": {
       "model_id": "bc09a613ed634681a7981b9d2a1901fd",
       "version_major": 2,
       "version_minor": 0
      },
      "text/plain": [
       "HBox(children=(FloatProgress(value=0.0, max=3603.0), HTML(value='')))"
      ]
     },
     "metadata": {},
     "output_type": "display_data"
    },
    {
     "name": "stdout",
     "output_type": "stream",
     "text": [
      "bids:\n",
      "            size\n",
      "price           \n",
      "0.019170   4.104\n",
      "0.019167  21.695\n",
      "0.019166  47.439\n",
      "0.019165  57.871\n",
      "0.019164  57.971\n",
      "asks:\n",
      "            size\n",
      "price           \n",
      "0.019173  62.813\n",
      "0.019179  66.813\n",
      "0.019181  66.873\n",
      "0.019182  83.962\n",
      "0.019183  93.922\n",
      "prices:\n",
      "time        1.579755601000e+09\n",
      "price       1.917018000100e-02\n",
      "emaPrice    1.917212055752e-02\n",
      "bid         1.917000000000e-02\n",
      "ask         1.917300000000e-02\n",
      "dtype: float64\n",
      "trades:\n",
      "                    q  delay  num   up\n",
      "p                                     \n",
      "0.019170180001  0.000    0.0  0.0  0.0\n",
      "0.019172000000  0.150    2.0  1.0  1.0\n",
      "0.019173000000  8.062    2.0  1.0  1.0\n",
      "0.019173000000  4.765    3.0  1.0  1.0\n",
      "CPU times: user 375 ms, sys: 8.92 ms, total: 383 ms\n",
      "Wall time: 372 ms\n"
     ]
    }
   ],
   "source": [
    "%%time\n",
    "for i in range(20):\n",
    "    b, a, tp, tr = next(replay)\n",
    "print(f\"bids:\\n{b.head()}\")\n",
    "print(f\"asks:\\n{a.head()}\")\n",
    "print(f\"prices:\\n{tp}\")\n",
    "print(f\"trades:\\n{tr}\")"
   ]
  },
  {
   "cell_type": "code",
   "execution_count": 12,
   "metadata": {},
   "outputs": [
    {
     "data": {
      "application/vnd.jupyter.widget-view+json": {
       "model_id": "fb73b06b31f74dab8083aae7272be199",
       "version_major": 2,
       "version_minor": 0
      },
      "text/plain": [
       "HBox(children=(FloatProgress(value=0.0, max=23.0), HTML(value='')))"
      ]
     },
     "metadata": {},
     "output_type": "display_data"
    },
    {
     "name": "stdout",
     "output_type": "stream",
     "text": [
      "\n"
     ]
    },
    {
     "data": {
      "application/vnd.jupyter.widget-view+json": {
       "model_id": "727f8d5e4e134e09a6df99a33a4a2093",
       "version_major": 2,
       "version_minor": 0
      },
      "text/plain": [
       "HBox(children=(FloatProgress(value=0.0, max=22.0), HTML(value='')))"
      ]
     },
     "metadata": {},
     "output_type": "display_data"
    },
    {
     "data": {
      "application/vnd.jupyter.widget-view+json": {
       "model_id": "",
       "version_major": 2,
       "version_minor": 0
      },
      "text/plain": [
       "HBox(children=(FloatProgress(value=0.0, max=19.0), HTML(value='')))"
      ]
     },
     "metadata": {},
     "output_type": "display_data"
    },
    {
     "name": "stdout",
     "output_type": "stream",
     "text": [
      "974998457  974998450 != 974998460:\n"
     ]
    }
   ],
   "source": [
    "shapper = await BookShapper.create()\n",
    "file_replayer = Replayer('../crypto-trading/data/L2')\n",
    "areplay = file_replayer.replayL2_async('ETHBTC', shapper)\n",
    "b, a, tp, tr = await areplay.__anext__()"
   ]
  },
  {
   "cell_type": "code",
   "execution_count": 16,
   "metadata": {},
   "outputs": [
    {
     "name": "stdout",
     "output_type": "stream",
     "text": [
      "bids:\n",
      "            size\n",
      "price           \n",
      "0.019164   0.104\n",
      "0.019163   0.113\n",
      "0.019162  44.813\n",
      "0.019160  54.553\n",
      "0.019157  62.246\n",
      "asks:\n",
      "             size\n",
      "price            \n",
      "0.019167    0.104\n",
      "0.019168    1.923\n",
      "0.019170   28.107\n",
      "0.019171   31.107\n",
      "0.019173  115.607\n",
      "prices:\n",
      "{'time': 1579755621, 'price': 0.019165500000999997, 'emaPrice': 0.019171940711225775, 'bid': 0.019164, 'ask': 0.019167}\n",
      "trades:\n",
      "                    q  delay  num   up\n",
      "p                                     \n",
      "0.019165500001  0.000    0.0  0.0  0.0\n",
      "0.019167000000  2.602    2.0  1.0  1.0\n"
     ]
    }
   ],
   "source": [
    "for i in range(20):\n",
    "    b, a, tp, tr = await areplay.__anext__()\n",
    "    b1, a1, tp1, tr1 = next(replay)\n",
    "    print(i)\n",
    "    assert b1.equals(b)\n",
    "    assert a1.equals(a)\n",
    "\n",
    "\n",
    "print(f\"bids:\\n{b.head()}\")\n",
    "print(f\"asks:\\n{a.head()}\")\n",
    "print(f\"prices:\\n{tp}\")\n",
    "print(f\"trades:\\n{tr}\")"
   ]
  },
  {
   "cell_type": "code",
   "execution_count": null,
   "metadata": {},
   "outputs": [],
   "source": []
  },
  {
   "cell_type": "code",
   "execution_count": 7,
   "metadata": {},
   "outputs": [
    {
     "data": {
      "application/vnd.jupyter.widget-view+json": {
       "model_id": "e2048e5844b44e2ea9b74d7976a70a0f",
       "version_major": 2,
       "version_minor": 0
      },
      "text/plain": [
       "HBox(children=(FloatProgress(value=0.0, max=19.0), HTML(value='')))"
      ]
     },
     "metadata": {},
     "output_type": "display_data"
    },
    {
     "name": "stdout",
     "output_type": "stream",
     "text": [
      "\n"
     ]
    },
    {
     "data": {
      "application/vnd.jupyter.widget-view+json": {
       "model_id": "8e7a080532ce458eb35a8b15c9fe7951",
       "version_major": 2,
       "version_minor": 0
      },
      "text/plain": [
       "HBox(children=(FloatProgress(value=0.0, max=18.0), HTML(value='')))"
      ]
     },
     "metadata": {},
     "output_type": "display_data"
    },
    {
     "data": {
      "application/vnd.jupyter.widget-view+json": {
       "model_id": "",
       "version_major": 2,
       "version_minor": 0
      },
      "text/plain": [
       "HBox(children=(FloatProgress(value=0.0, max=19.0), HTML(value='')))"
      ]
     },
     "metadata": {},
     "output_type": "display_data"
    },
    {
     "data": {
      "application/vnd.jupyter.widget-view+json": {
       "model_id": "9df5b00587fe4aa3a4b9b6b8f910aba2",
       "version_major": 2,
       "version_minor": 0
      },
      "text/plain": [
       "HBox(children=(FloatProgress(value=0.0, max=19.0), HTML(value='')))"
      ]
     },
     "metadata": {},
     "output_type": "display_data"
    },
    {
     "name": "stdout",
     "output_type": "stream",
     "text": [
      "\n"
     ]
    },
    {
     "data": {
      "application/vnd.jupyter.widget-view+json": {
       "model_id": "44a227e3590b495d80d8b277dc668dac",
       "version_major": 2,
       "version_minor": 0
      },
      "text/plain": [
       "HBox(children=(FloatProgress(value=0.0, max=18.0), HTML(value='')))"
      ]
     },
     "metadata": {},
     "output_type": "display_data"
    },
    {
     "data": {
      "application/vnd.jupyter.widget-view+json": {
       "model_id": "",
       "version_major": 2,
       "version_minor": 0
      },
      "text/plain": [
       "HBox(children=(FloatProgress(value=0.0, max=20.0), HTML(value='')))"
      ]
     },
     "metadata": {},
     "output_type": "display_data"
    },
    {
     "name": "stdout",
     "output_type": "stream",
     "text": [
      "tall 1579755581.0\n"
     ]
    }
   ],
   "source": [
    "replayers = [file_replayer.replayL2('ETHBTC', await BookShapper.create()),\n",
    "             file_replayer.replayL2('BTCUSDT', await BookShapper.create()),\n",
    "            ]\n",
    "multi_replay = file_replayer.multireplayL2(replayers)\n",
    "d = next(multi_replay)"
   ]
  },
  {
   "cell_type": "code",
   "execution_count": 8,
   "metadata": {},
   "outputs": [
    {
     "data": {
      "application/vnd.jupyter.widget-view+json": {
       "model_id": "a0df0915d0694db0a3046475cfece7ca",
       "version_major": 2,
       "version_minor": 0
      },
      "text/plain": [
       "HBox(children=(FloatProgress(value=0.0, max=3603.0), HTML(value='')))"
      ]
     },
     "metadata": {},
     "output_type": "display_data"
    },
    {
     "data": {
      "application/vnd.jupyter.widget-view+json": {
       "model_id": "eacf9d7231b04a71a5cd6cde76af4095",
       "version_major": 2,
       "version_minor": 0
      },
      "text/plain": [
       "HBox(children=(FloatProgress(value=0.0, max=3601.0), HTML(value='')))"
      ]
     },
     "metadata": {},
     "output_type": "display_data"
    },
    {
     "data": {
      "text/plain": [
       "{0: (                       size\n",
       "  price                      \n",
       "  0.019177    13.837000000000\n",
       "  0.019176    13.934000000000\n",
       "  0.019172    14.500000000000\n",
       "  0.019171    28.133000000000\n",
       "  0.019168    32.597000000000\n",
       "  ...                     ...\n",
       "  0.017333  8022.413000000010\n",
       "  0.012600  8036.438000000010\n",
       "  0.010000  8232.639000000010\n",
       "  0.009585  8232.651000000011\n",
       "  0.004000  8244.290000000010\n",
       "  \n",
       "  [1031 rows x 1 columns],                        size\n",
       "  price                      \n",
       "  0.019179     0.007000000000\n",
       "  0.019180     4.007000000000\n",
       "  0.019183    16.007000000000\n",
       "  0.019184    31.190000000000\n",
       "  0.019185    47.312000000000\n",
       "  ...                     ...\n",
       "  0.020254  9272.023999999994\n",
       "  0.021418  9272.036999999995\n",
       "  0.021690  9273.821999999995\n",
       "  0.021962  9273.969999999994\n",
       "  0.050000  9916.898999999994\n",
       "  \n",
       "  [1000 rows x 1 columns], time        1.579755680000e+09\n",
       "  price       1.917900000100e-02\n",
       "  emaPrice    1.917167324646e-02\n",
       "  bid         1.917700000000e-02\n",
       "  ask         1.917900000000e-02\n",
       "  dtype: float64,                   q  delay  num   up\n",
       "  p                                   \n",
       "  0.019179000001  0.0    0.0  0.0  0.0),\n",
       " 1: (                                size\n",
       "  price                               \n",
       "  8581.650000000000     0.257789000000\n",
       "  8581.639999999999     4.034930000000\n",
       "  8581.500000000000     4.131894000000\n",
       "  8581.410000000000     4.732064000000\n",
       "  8581.370000000001     5.171329000000\n",
       "  ...                              ...\n",
       "  8080.610000000000  1308.895699999998\n",
       "  7800.000000000000  1411.412650999999\n",
       "  7723.490000000000  1411.422650999998\n",
       "  7700.000000000000  1556.307699999998\n",
       "  7410.000000000000  1562.320098999998\n",
       "  \n",
       "  [1012 rows x 1 columns],                                size\n",
       "  price                              \n",
       "  8582.360000000001    0.291307000000\n",
       "  8582.379999999999    0.438548000000\n",
       "  8582.410000000000    0.729854000000\n",
       "  8582.660000000000    0.772147000000\n",
       "  8582.900000000000    2.762664000000\n",
       "  ...                             ...\n",
       "  8799.000000000000  405.110069999999\n",
       "  8800.000000000000  669.907092999999\n",
       "  8818.000000000000  670.163369999999\n",
       "  9030.580000000000  670.453367999999\n",
       "  9037.350000000000  671.033706999999\n",
       "  \n",
       "  [1025 rows x 1 columns], time        1.579755680000e+09\n",
       "  price       8.581983330040e+03\n",
       "  emaPrice    8.588398026771e+03\n",
       "  bid         8.581650000000e+03\n",
       "  ask         8.582360000000e+03\n",
       "  dtype: float64,                           q  delay  num   up\n",
       "  p                                           \n",
       "  8581.650000000000  0.060028    3.0  1.0 -1.0\n",
       "  8581.650000000000  0.060281    2.0  1.0 -1.0\n",
       "  8581.650000000000  0.001384    4.0  1.0 -1.0\n",
       "  8581.650000000000  0.060382    4.0  1.0 -1.0\n",
       "  8581.983330040002  0.000000    0.0  0.0  0.0)}"
      ]
     },
     "execution_count": 8,
     "metadata": {},
     "output_type": "execute_result"
    }
   ],
   "source": [
    "for i in range(100):\n",
    "    d = next(multi_replay)\n",
    "d"
   ]
  },
  {
   "cell_type": "code",
   "execution_count": 9,
   "metadata": {},
   "outputs": [
    {
     "ename": "AttributeError",
     "evalue": "'Replayer' object has no attribute 'accumulate_array'",
     "output_type": "error",
     "traceback": [
      "\u001b[0;31m---------------------------------------------------------------------------\u001b[0m",
      "\u001b[0;31mAttributeError\u001b[0m                            Traceback (most recent call last)",
      "\u001b[0;32m<ipython-input-9-af96a5fd39d5>\u001b[0m in \u001b[0;36m<module>\u001b[0;34m\u001b[0m\n\u001b[0;32m----> 1\u001b[0;31m \u001b[0mgen\u001b[0m \u001b[0;34m=\u001b[0m \u001b[0mfile_replayer\u001b[0m\u001b[0;34m.\u001b[0m\u001b[0maccumulate_array\u001b[0m\u001b[0;34m(\u001b[0m\u001b[0mmarkets\u001b[0m\u001b[0;34m=\u001b[0m\u001b[0;34m[\u001b[0m\u001b[0;34m'ETHBTC'\u001b[0m\u001b[0;34m,\u001b[0m\u001b[0;34m'BTCUSDT'\u001b[0m\u001b[0;34m]\u001b[0m\u001b[0;34m)\u001b[0m\u001b[0;34m\u001b[0m\u001b[0;34m\u001b[0m\u001b[0m\n\u001b[0m\u001b[1;32m      2\u001b[0m \u001b[0m_\u001b[0m \u001b[0;34m=\u001b[0m \u001b[0mnext\u001b[0m\u001b[0;34m(\u001b[0m\u001b[0mgen\u001b[0m\u001b[0;34m)\u001b[0m\u001b[0;34m\u001b[0m\u001b[0;34m\u001b[0m\u001b[0m\n",
      "\u001b[0;31mAttributeError\u001b[0m: 'Replayer' object has no attribute 'accumulate_array'"
     ]
    }
   ],
   "source": [
    "gen = file_replayer.accumulate_array(markets=['ETHBTC','BTCUSDT'])\n",
    "_ = next(gen)"
   ]
  },
  {
   "cell_type": "code",
   "execution_count": null,
   "metadata": {},
   "outputs": [],
   "source": [
    "LENGTH = 128\n",
    "x = []\n",
    "for n,sec in enumerate(gen):\n",
    "    allim = []\n",
    "    for symb, data in sec.items():\n",
    "        arr = np.stack(data['bs'][-LENGTH:])\n",
    "        im = arr\n",
    "        im[:,:,0] /= 10\n",
    "        im += 0.5\n",
    "        allim.append(im)\n",
    "    allim = np.concatenate(allim, axis=1)\n",
    "    if n % 1 == 0:\n",
    "        plt.figure(figsize=(15,11))\n",
    "        toshow = allim.transpose(1,0,2)\n",
    "        toshow = np.clip(toshow, 0, 1)\n",
    "        plt.imshow(toshow, origin=\"lower\");\n",
    "        clear_output(wait=True)\n",
    "        plt.show()\n",
    "    pass"
   ]
  },
  {
   "cell_type": "code",
   "execution_count": null,
   "metadata": {},
   "outputs": [],
   "source": [
    "genacc = file_replayer.accumulate_array(markets=['ETHBTC'])\n",
    "next(genacc)"
   ]
  },
  {
   "cell_type": "code",
   "execution_count": null,
   "metadata": {},
   "outputs": [],
   "source": [
    "import pandas as pd\n",
    "import numpy as np"
   ]
  },
  {
   "cell_type": "code",
   "execution_count": null,
   "metadata": {},
   "outputs": [],
   "source": [
    "js = [['0.21654', '0.24654'],['0.21654', '0.24654'],['0.21654', '0.24654'],['0.21654', '0.24654'],['0.21654', '0.24654'],['0.21654', '0.24654']]"
   ]
  },
  {
   "cell_type": "code",
   "execution_count": null,
   "metadata": {},
   "outputs": [],
   "source": [
    "%%timeit\n",
    "pd.DataFrame(js, columns=['price', 'size']).astype(np.float64).set_index('price')"
   ]
  },
  {
   "cell_type": "code",
   "execution_count": null,
   "metadata": {},
   "outputs": [],
   "source": [
    "%%timeit\n",
    "[[float(e[0]), float(e[1])] for e in js]"
   ]
  },
  {
   "cell_type": "raw",
   "metadata": {},
   "source": []
  }
 ],
 "metadata": {
  "kernelspec": {
   "display_name": "Python 3",
   "language": "python",
   "name": "python3"
  },
  "language_info": {
   "codemirror_mode": {
    "name": "ipython",
    "version": 3
   },
   "file_extension": ".py",
   "mimetype": "text/x-python",
   "name": "python",
   "nbconvert_exporter": "python",
   "pygments_lexer": "ipython3",
   "version": "3.7.3"
  }
 },
 "nbformat": 4,
 "nbformat_minor": 4
}

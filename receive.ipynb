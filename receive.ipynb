{
 "cells": [
  {
   "cell_type": "code",
   "execution_count": null,
   "metadata": {},
   "outputs": [],
   "source": [
    "from deep_orderbook.recorder import Receiver, Writer\n",
    "from deep_orderbook.shapper import BookShapper\n",
    "\n",
    "import asyncio\n",
    "import pandas as pd\n",
    "import numpy as np\n",
    "from pylab import rcParams"
   ]
  },
  {
   "cell_type": "code",
   "execution_count": null,
   "metadata": {},
   "outputs": [],
   "source": [
    "import matplotlib.pyplot as plt\n",
    "from IPython.display import clear_output\n",
    "rcParams['figure.figsize'] = 20, 4"
   ]
  },
  {
   "cell_type": "code",
   "execution_count": null,
   "metadata": {},
   "outputs": [],
   "source": [
    "MARKETS = [\"ETHBTC\", \"BTCUSDT\", \"ETHUSDT\", \"BNBBTC\", \"BNBETH\", \"BNBUSDT\"]"
   ]
  },
  {
   "cell_type": "code",
   "execution_count": null,
   "metadata": {},
   "outputs": [],
   "source": [
    "#receiver = await Receiver.create(markets=MARKETS)\n",
    "receiver = await Writer.create(markets=MARKETS, data_folder='../crypto-trading/data')\n",
    "wrting = asyncio.create_task(receiver.run_writer(save_period_minutes=10))"
   ]
  },
  {
   "cell_type": "code",
   "execution_count": null,
   "metadata": {},
   "outputs": [],
   "source": [
    "b = receiver.depth_managers['ETHBTC'].get_depth_cache().get_bids()\n",
    "pd.DataFrame(b, columns=['price', 'size']).astype(np.float64).set_index('price')#.cumsum().plot()"
   ]
  },
  {
   "cell_type": "code",
   "execution_count": null,
   "metadata": {},
   "outputs": [],
   "source": [
    "a = receiver.depth_managers['ETHBTC'].get_depth_cache().get_asks()\n",
    "pd.DataFrame(a, columns=['price', 'size']).astype(np.float64).set_index('price')"
   ]
  },
  {
   "cell_type": "code",
   "execution_count": null,
   "metadata": {},
   "outputs": [],
   "source": [
    "receiver.depth_managers['ETHBTC'].trades"
   ]
  },
  {
   "cell_type": "code",
   "execution_count": null,
   "metadata": {},
   "outputs": [],
   "source": [
    "shappers = {pair: await BookShapper.create() for pair in MARKETS}\n",
    "multi_replay = receiver.multi_generator(shappers)"
   ]
  },
  {
   "cell_type": "code",
   "execution_count": null,
   "metadata": {},
   "outputs": [],
   "source": [
    "_ = await multi_replay.__anext__()"
   ]
  },
  {
   "cell_type": "code",
   "execution_count": null,
   "metadata": {},
   "outputs": [],
   "source": [
    "import aioitertools\n",
    "genarr = BookShapper.gen_array_async(market_replay=multi_replay, markets=MARKETS)\n",
    "_ = await aioitertools.next(genarr)"
   ]
  },
  {
   "cell_type": "code",
   "execution_count": null,
   "metadata": {},
   "outputs": [],
   "source": [
    "genacc = BookShapper.accumulate_array(genarr, markets=MARKETS)\n",
    "_ = await aioitertools.next(genacc)"
   ]
  },
  {
   "cell_type": "code",
   "execution_count": null,
   "metadata": {},
   "outputs": [],
   "source": [
    "async for toshow in BookShapper.images(accumulated_arrays=genacc, every=1, LENGTH=512):\n",
    "    plt.figure(figsize=(15,11))\n",
    "    plt.imshow(toshow, origin=\"upper\");\n",
    "    clear_output(wait=True)\n",
    "    plt.show()"
   ]
  },
  {
   "cell_type": "code",
   "execution_count": null,
   "metadata": {},
   "outputs": [],
   "source": [
    "#task = asyncio.create_task(images(accumulated_arrays=genacc, every=1, LENGTH=512))"
   ]
  },
  {
   "cell_type": "code",
   "execution_count": null,
   "metadata": {},
   "outputs": [],
   "source": []
  }
 ],
 "metadata": {
  "kernelspec": {
   "display_name": "Python 3",
   "language": "python",
   "name": "python3"
  },
  "language_info": {
   "codemirror_mode": {
    "name": "ipython",
    "version": 3
   },
   "file_extension": ".py",
   "mimetype": "text/x-python",
   "name": "python",
   "nbconvert_exporter": "python",
   "pygments_lexer": "ipython3",
   "version": "3.7.6"
  }
 },
 "nbformat": 4,
 "nbformat_minor": 4
}

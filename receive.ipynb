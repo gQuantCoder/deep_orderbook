{
 "cells": [
  {
   "cell_type": "code",
   "execution_count": null,
   "metadata": {},
   "outputs": [],
   "source": [
    "from deep_orderbook.recorder import Receiver\n",
    "from deep_orderbook.shapper import BookShapper\n",
    "\n",
    "import pandas as pd\n",
    "import numpy as np\n",
    "from pylab import rcParams"
   ]
  },
  {
   "cell_type": "code",
   "execution_count": null,
   "metadata": {},
   "outputs": [],
   "source": [
    "import matplotlib.pyplot as plt\n",
    "from IPython.display import clear_output\n",
    "rcParams['figure.figsize'] = 20, 4"
   ]
  },
  {
   "cell_type": "code",
   "execution_count": null,
   "metadata": {},
   "outputs": [],
   "source": [
    "receiver = await Receiver.create(markets=['ETHBTC', 'BTCUSDT'])"
   ]
  },
  {
   "cell_type": "code",
   "execution_count": null,
   "metadata": {},
   "outputs": [],
   "source": [
    "#receiver2 = await dob.recorder.Writer.create(markets=['BNBBTC'], data_folder='data')"
   ]
  },
  {
   "cell_type": "code",
   "execution_count": null,
   "metadata": {},
   "outputs": [],
   "source": [
    "b = receiver.depth_managers['ETHBTC'].get_depth_cache().get_bids()\n",
    "pd.DataFrame(b, columns=['price', 'size']).astype(np.float64).set_index('price')#.cumsum().plot()"
   ]
  },
  {
   "cell_type": "code",
   "execution_count": null,
   "metadata": {},
   "outputs": [],
   "source": [
    "a = receiver.depth_managers['ETHBTC'].get_depth_cache().get_asks()\n",
    "pd.DataFrame(a, columns=['price', 'size']).astype(np.float64).set_index('price')"
   ]
  },
  {
   "cell_type": "code",
   "execution_count": null,
   "metadata": {},
   "outputs": [],
   "source": [
    "receiver.depth_managers['ETHBTC'].trades"
   ]
  },
  {
   "cell_type": "code",
   "execution_count": null,
   "metadata": {},
   "outputs": [],
   "source": [
    "shappers = {'ETHBTC': await BookShapper.create(),\n",
    "            'BTCUSDT': await BookShapper.create(),\n",
    "           }\n",
    "multi_replay = receiver.multi_generator(shappers)"
   ]
  },
  {
   "cell_type": "code",
   "execution_count": null,
   "metadata": {},
   "outputs": [],
   "source": [
    "_ = await multi_replay.__anext__()"
   ]
  },
  {
   "cell_type": "code",
   "execution_count": null,
   "metadata": {},
   "outputs": [],
   "source": [
    "import aioitertools\n",
    "genarr = BookShapper.gen_array_async(market_replay=multi_replay, markets=['ETHBTC', 'BTCUSDT'])\n",
    "_ = await aioitertools.next(genarr)"
   ]
  },
  {
   "cell_type": "code",
   "execution_count": null,
   "metadata": {},
   "outputs": [],
   "source": [
    "genacc = BookShapper.accumulate_array(genarr, markets=['ETHBTC', 'BTCUSDT'])\n",
    "_ = await aioitertools.next(genacc)"
   ]
  },
  {
   "cell_type": "code",
   "execution_count": null,
   "metadata": {},
   "outputs": [],
   "source": [
    "every = 1\n",
    "LENGTH = 128\n",
    "x = []\n",
    "async for n,sec in aioitertools.enumerate(genacc):\n",
    "    allim = []\n",
    "    for symb, data in sec.items():\n",
    "        arr = np.stack(data['bs'][-LENGTH:])\n",
    "        im = arr\n",
    "        im[:,:,0] /= 10\n",
    "        im += 0.5\n",
    "        allim.append(im)\n",
    "    allim = np.concatenate(allim, axis=1)\n",
    "    if n % every == 0:\n",
    "        plt.figure(figsize=(15,11))\n",
    "        toshow = allim.transpose(1,0,2)\n",
    "        toshow = np.clip(toshow, 0, 1)\n",
    "        plt.imshow(toshow, origin=\"lower\");\n",
    "        clear_output(wait=True)\n",
    "        plt.show()\n",
    "    pass"
   ]
  },
  {
   "cell_type": "code",
   "execution_count": null,
   "metadata": {},
   "outputs": [],
   "source": []
  },
  {
   "cell_type": "code",
   "execution_count": null,
   "metadata": {},
   "outputs": [],
   "source": []
  }
 ],
 "metadata": {
  "kernelspec": {
   "display_name": "Python 3",
   "language": "python",
   "name": "python3"
  },
  "language_info": {
   "codemirror_mode": {
    "name": "ipython",
    "version": 3
   },
   "file_extension": ".py",
   "mimetype": "text/x-python",
   "name": "python",
   "nbconvert_exporter": "python",
   "pygments_lexer": "ipython3",
   "version": "3.7.6"
  }
 },
 "nbformat": 4,
 "nbformat_minor": 4
}

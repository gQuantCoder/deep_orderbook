{
 "cells": [
  {
   "cell_type": "code",
   "execution_count": 1,
   "metadata": {},
   "outputs": [],
   "source": [
    "from deep_orderbook.feeds.coinbase_feed import CoinbaseFeed as Feed\n",
    "from deep_orderbook.shaper import BookShaper\n",
    "\n",
    "import asyncio\n",
    "import pandas as pd\n",
    "import numpy as np\n",
    "from pylab import rcParams"
   ]
  },
  {
   "cell_type": "code",
   "execution_count": 2,
   "metadata": {},
   "outputs": [],
   "source": [
    "import matplotlib.pyplot as plt\n",
    "from IPython.display import clear_output\n",
    "rcParams['figure.figsize'] = 20, 4"
   ]
  },
  {
   "cell_type": "code",
   "execution_count": 3,
   "metadata": {},
   "outputs": [],
   "source": [
    "MARKETS = [\"BTC-USD\", \"ETH-USD\", \"ETH-BTC\", ]"
   ]
  },
  {
   "cell_type": "code",
   "execution_count": 4,
   "metadata": {},
   "outputs": [],
   "source": [
    "async with Feed(markets=MARKETS) as receiver:\n",
    "    await asyncio.sleep(5)"
   ]
  },
  {
   "cell_type": "code",
   "execution_count": null,
   "metadata": {},
   "outputs": [],
   "source": [
    "b = receiver.depth_managers['BTC-USD'].get_bids()\n",
    "b = pd.DataFrame(b, columns=['price', 'size']).astype(np.float64).set_index('price')\n",
    "b.cumsum().iloc[:-1000].plot(title='BTC-USD Bids')"
   ]
  },
  {
   "cell_type": "code",
   "execution_count": null,
   "metadata": {},
   "outputs": [],
   "source": [
    "a = receiver.depth_managers['BTC-USD'].get_asks()\n",
    "a = pd.DataFrame(a, columns=['price', 'size']).astype(np.float64).set_index('price')\n",
    "a.cumsum().iloc[:-1000].plot(title=f'BTC-USD Asks')"
   ]
  },
  {
   "cell_type": "code",
   "execution_count": null,
   "metadata": {},
   "outputs": [],
   "source": [
    "receiver.trade_tapes['BTC-USD']"
   ]
  },
  {
   "cell_type": "code",
   "execution_count": null,
   "metadata": {},
   "outputs": [],
   "source": [
    "multi_replay = receiver.multi_generator()\n",
    "_ = await multi_replay.__anext__()\n",
    "_"
   ]
  },
  {
   "cell_type": "code",
   "execution_count": null,
   "metadata": {},
   "outputs": [],
   "source": [
    "import aioitertools\n",
    "genarr = BookShaper.gen_array_async(market_replay=multi_replay, markets=MARKETS)\n",
    "_ = await aioitertools.next(genarr)\n",
    "_"
   ]
  },
  {
   "cell_type": "code",
   "execution_count": null,
   "metadata": {},
   "outputs": [],
   "source": [
    "genacc = BookShaper.accumulate_array(genarr, markets=MARKETS)\n",
    "_ = await aioitertools.next(genacc)\n",
    "_"
   ]
  },
  {
   "cell_type": "code",
   "execution_count": null,
   "metadata": {},
   "outputs": [],
   "source": [
    "async with Feed(markets=MARKETS) as receiver:\n",
    "    multi_replay = receiver.multi_generator()\n",
    "    genarr = BookShaper.gen_array_async(market_replay=multi_replay, markets=MARKETS)\n",
    "    genacc = BookShaper.accumulate_array(genarr, markets=MARKETS)\n",
    "    async for toshow in BookShaper.images(accumulated_arrays=genacc, every=1, LENGTH=512):\n",
    "        plt.figure(figsize=(15,11))\n",
    "        plt.imshow(toshow, origin=\"upper\")\n",
    "        clear_output(wait=True)\n",
    "        plt.show()"
   ]
  },
  {
   "cell_type": "code",
   "execution_count": null,
   "metadata": {},
   "outputs": [],
   "source": [
    "#task = asyncio.create_task(images(accumulated_arrays=genacc, every=1, LENGTH=512))"
   ]
  },
  {
   "cell_type": "code",
   "execution_count": null,
   "metadata": {},
   "outputs": [],
   "source": []
  }
 ],
 "metadata": {
  "kernelspec": {
   "display_name": "Python 3",
   "language": "python",
   "name": "python3"
  },
  "language_info": {
   "codemirror_mode": {
    "name": "ipython",
    "version": 3
   },
   "file_extension": ".py",
   "mimetype": "text/x-python",
   "name": "python",
   "nbconvert_exporter": "python",
   "pygments_lexer": "ipython3",
   "version": "3.11.9"
  }
 },
 "nbformat": 4,
 "nbformat_minor": 4
}

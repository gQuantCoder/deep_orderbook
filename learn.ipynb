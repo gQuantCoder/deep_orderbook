{
 "cells": [
  {
   "cell_type": "code",
   "execution_count": null,
   "metadata": {},
   "outputs": [],
   "source": []
  },
  {
   "cell_type": "code",
   "execution_count": null,
   "metadata": {},
   "outputs": [],
   "source": [
    "import numpy as np\n",
    "import plotly.graph_objects as go\n",
    "from plotly.subplots import make_subplots\n",
    "from IPython.display import display\n",
    "\n",
    "from deep_orderbook.learn.test_learn import train_and_predict\n",
    "from deep_orderbook.visu import Visualizer\n",
    "from deep_orderbook.config import TrainConfig, ReplayConfig, ShaperConfig\n",
    "\n",
    "\n",
    "vis = Visualizer()\n",
    "\n",
    "train_config = TrainConfig()\n",
    "replay_config = ReplayConfig()\n",
    "shaper_config = ShaperConfig()\n",
    "\n",
    "# Define your asynchronous function to update the figure\n",
    "async def online_learning(train_config, replay_config, shaper_config):\n",
    "    async for shaped, t2l, pxar, prediction, loss in train_and_predict(config=train_config, replay_config=replay_config, shaper_config=shaper_config):\n",
    "        # Process your data for heatmaps\n",
    "        im_data = shaped.copy().transpose(1, 0, 2)\n",
    "        im_data[:, :, 0] *= -0.5\n",
    "        im_data[:, :, 1:3] *= 1e6\n",
    "        im_data = np.clip(im_data, -1, 1)\n",
    "        im_data = im_data.mean(axis=2)\n",
    "        t2l_data = np.clip(t2l[:, :, 0].T, -1, 1)\n",
    "\n",
    "        pred_shape = prediction.reshape(t2l.shape).transpose(1, 0, 2)\n",
    "        pred_shape = np.clip(pred_shape[:, :, 0], -1, 1)\n",
    "\n",
    "        vis.add_loss(loss)\n",
    "        vis.update(books_z_data=im_data, level_reach_z_data=t2l_data, bidask=pxar, pred_shape=pred_shape)\n",
    "\n",
    "await online_learning(train_config=train_config, replay_config=replay_config, shaper_config=shaper_config)"
   ]
  },
  {
   "cell_type": "code",
   "execution_count": null,
   "metadata": {},
   "outputs": [],
   "source": []
  }
 ],
 "metadata": {
  "kernelspec": {
   "display_name": "Python 3 (ipykernel)",
   "language": "python",
   "name": "python3"
  },
  "language_info": {
   "codemirror_mode": {
    "name": "ipython",
    "version": 3
   },
   "file_extension": ".py",
   "mimetype": "text/x-python",
   "name": "python",
   "nbconvert_exporter": "python",
   "pygments_lexer": "ipython3",
   "version": "3.11.10"
  }
 },
 "nbformat": 4,
 "nbformat_minor": 4
}

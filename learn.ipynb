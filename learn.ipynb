{
 "cells": [
  {
   "cell_type": "code",
   "execution_count": 1,
   "metadata": {},
   "outputs": [],
   "source": [
    "from deep_orderbook.learn.test_learn import train_and_predict\n",
    "from deep_orderbook.visu import Visualizer\n",
    "from deep_orderbook.config import TrainConfig, ReplayConfig, ShaperConfig\n",
    "from deep_orderbook.strategy import Strategy\n",
    "train_config = TrainConfig(\n",
    "    num_workers=5,\n",
    "    batch_size=64,\n",
    "    data_queue_size=1024,\n",
    "    num_levels=8,\n",
    "    learning_rate=0.001,\n",
    "    epochs=100, save_checkpoint_batches=10, save_checkpoint_mins=1.0\n",
    ")\n",
    "replay_config = ReplayConfig(\n",
    "    markets=[\"ETH-USD\"],#, \"BTC-USD\", \"ETH-BTC\"],\n",
    "    date_regexp='2024-1[0,1]-0*',\n",
    "    data_dir='/media/photoDS216/crypto/',\n",
    "    every=\"1000ms\",\n",
    ")\n",
    "shaper_config = ShaperConfig(\n",
    "    only_full_arrays=True,\n",
    "    view_bips = 20,\n",
    "    num_side_lvl = 8,\n",
    "    look_ahead = 32,\n",
    "    look_ahead_side_bips = 10,\n",
    "    look_ahead_side_width = 4,\n",
    "    rolling_window_size = 1024,\n",
    "    window_stride = 8,\n",
    "    randomize=True,\n",
    ")\n",
    "test_config = replay_config.but(\n",
    "    date_regexp='2024-11-1*',\n",
    "    randomize=False\n",
    ")"
   ]
  },
  {
   "cell_type": "code",
   "execution_count": null,
   "metadata": {},
   "outputs": [],
   "source": [
    "vis = Visualizer()\n",
    "strategy = Strategy(threshold=0.3)\n",
    "async def online_learning(train_config, replay_config, shaper_config):\n",
    "    async for books_arr, t2l, pxar, pred_t2l, train_loss, test_loss in train_and_predict(\n",
    "        resume_from_checkpoint=True,\n",
    "        config=train_config, replay_config=replay_config, shaper_config=shaper_config, test_config=test_config\n",
    "    ):\n",
    "        gt_pnl, pos, gt_up_prox, gt_down_prox = strategy.compute_pnl(pxar, t2l)\n",
    "        pred_pnl, pred_pos, pred_up_prox, pred_down_prox = strategy.compute_pnl(pxar, pred_t2l)\n",
    "\n",
    "        vis.add_loss(train_loss, test_loss)\n",
    "        vis.update(\n",
    "            books_z_data=books_arr, level_reach_z_data=t2l, bidask=pxar, \n",
    "            pred_t2l=pred_t2l, gt_pnl=gt_pnl, pred_pnl=pred_pnl, \n",
    "            positions=pos, pred_positions=pred_pos,\n",
    "            up_proximity=gt_up_prox, down_proximity=gt_down_prox,\n",
    "            pred_up_proximity=pred_up_prox, pred_down_proximity=pred_down_prox\n",
    "        )\n",
    "await online_learning(train_config=train_config, replay_config=replay_config, shaper_config=shaper_config)"
   ]
  },
  {
   "cell_type": "code",
   "execution_count": null,
   "metadata": {},
   "outputs": [],
   "source": []
  },
  {
   "cell_type": "code",
   "execution_count": null,
   "metadata": {},
   "outputs": [],
   "source": []
  }
 ],
 "metadata": {
  "kernelspec": {
   "display_name": "py311",
   "language": "python",
   "name": "python3"
  },
  "language_info": {
   "codemirror_mode": {
    "name": "ipython",
    "version": 3
   },
   "file_extension": ".py",
   "mimetype": "text/x-python",
   "name": "python",
   "nbconvert_exporter": "python",
   "pygments_lexer": "ipython3",
   "version": "3.11.10"
  }
 },
 "nbformat": 4,
 "nbformat_minor": 4
}

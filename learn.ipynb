{
 "cells": [
  {
   "cell_type": "code",
   "execution_count": null,
   "metadata": {},
   "outputs": [],
   "source": [
    "import numpy as np\n",
    "\n",
    "from deep_orderbook.learn.test_learn import train_and_predict\n",
    "from deep_orderbook.visu import Visualizer\n",
    "from deep_orderbook.config import TrainConfig, ReplayConfig, ShaperConfig\n",
    "\n",
    "train_config = TrainConfig(\n",
    "    num_workers=5,\n",
    "    batch_size=64,\n",
    "    data_queue_size=1024,\n",
    "    num_levels=8,\n",
    "    learning_rate=0.0001,\n",
    "    epochs=100,\n",
    ")\n",
    "replay_config = ReplayConfig(\n",
    "    markets=[\"ETH-USD\"],#, \"BTC-USD\", \"ETH-BTC\"],\n",
    "    date_regexp='2024-1[0,1]-0*',\n",
    "    data_dir='/media/photoDS216/crypto/',\n",
    "    every=\"1000ms\",\n",
    ")\n",
    "shaper_config = ShaperConfig(\n",
    "    only_full_arrays=True,\n",
    "    view_bips = 20,\n",
    "    num_side_lvl = 8,\n",
    "    look_ahead = 32,\n",
    "    look_ahead_side_bips = 10,\n",
    "    look_ahead_side_width = 4,\n",
    "    rolling_window_size = 1024,\n",
    "    window_stride = 8,\n",
    "    randomize=True,\n",
    ")\n",
    "test_config = replay_config.but(\n",
    "    date_regexp='2024-11-1*',\n",
    "    randomize=False\n",
    ")\n",
    "\n",
    "vis = Visualizer()\n",
    "async def online_learning(train_config, replay_config, shaper_config):\n",
    "    async for books_arr, t2l, pxar, prediction, loss in train_and_predict(config=train_config, replay_config=replay_config, shaper_config=shaper_config, test_config=test_config,):\n",
    "        pred_t2l = prediction.reshape(t2l.shape).transpose(1, 0, 2)\n",
    "        pred_t2l = np.clip(pred_t2l[:, :, 0], -1, 1)\n",
    "\n",
    "        vis.add_loss(loss)\n",
    "        vis.update(books_z_data=books_arr, level_reach_z_data=t2l, bidask=pxar, pred_t2l=pred_t2l)\n",
    "\n",
    "await online_learning(train_config=train_config, replay_config=replay_config, shaper_config=shaper_config)"
   ]
  },
  {
   "cell_type": "code",
   "execution_count": null,
   "metadata": {},
   "outputs": [],
   "source": []
  },
  {
   "cell_type": "code",
   "execution_count": null,
   "metadata": {},
   "outputs": [],
   "source": []
  }
 ],
 "metadata": {
  "kernelspec": {
   "display_name": "Python 3 (ipykernel)",
   "language": "python",
   "name": "python3"
  },
  "language_info": {
   "codemirror_mode": {
    "name": "ipython",
    "version": 3
   },
   "file_extension": ".py",
   "mimetype": "text/x-python",
   "name": "python",
   "nbconvert_exporter": "python",
   "pygments_lexer": "ipython3",
   "version": "3.12.7"
  }
 },
 "nbformat": 4,
 "nbformat_minor": 4
}
